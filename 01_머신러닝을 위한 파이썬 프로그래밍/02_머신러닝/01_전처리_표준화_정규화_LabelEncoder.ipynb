{
 "cells": [
  {
   "cell_type": "markdown",
   "id": "818b1163-6a36-4554-aff2-66be2b01c011",
   "metadata": {},
   "source": [
    "### 전처리(Preprocessing)\n",
    "* 원본 raw 데이터의 품질이 좋지 않아서 가공하여 데이터의 품질을 향상시키는 과정\n",
    "\n",
    "#### 피처 스케일링\n",
    "#### (1) 표준화(Standardization) : 데이터가 평균으로 부터 얼마나 떨어져 있는지를 나타내는 값으로, 특정 범위를 벗어난 데이터를 이상치(outlier)로 간주하여 제거 한다, StandardScaler 사용, Z = (X - mean())/std()  , 정규분포, 가우시안분포(평균=0,분산=1)\n",
    "\n",
    "#### (2) 정규화(Normalization) : 데이터의 범위를 일치시키거나 분포를 유사하게 만들어 주는 기능, 데이터의 범위를 0 ~ 1사이의 값으로 변환, MinMaxScaler, Z = (X-min())/(max()-min())"
   ]
  },
  {
   "cell_type": "code",
   "execution_count": 2,
   "id": "4b83c1aa-9e87-4e6a-b5dd-3b78ffe4d0a2",
   "metadata": {},
   "outputs": [],
   "source": [
    "import numpy as np\n",
    "import pandas as pd"
   ]
  },
  {
   "cell_type": "markdown",
   "id": "469bde0e-2e6c-45e6-813a-83c4cc9054d4",
   "metadata": {},
   "source": [
    "### 표준화(Standardization)"
   ]
  },
  {
   "cell_type": "code",
   "execution_count": 25,
   "id": "7064e418-3a50-4f26-9b2f-6669b94b75fd",
   "metadata": {},
   "outputs": [
    {
     "name": "stdout",
     "output_type": "stream",
     "text": [
      "raw_data:\n",
      " [[627 954 594 246]\n",
      " [123  84  57 773]\n",
      " [961 403 559 177]]\n",
      "numpy standardized data:\n",
      " [[ 0.16451318  1.31808087  0.77724422 -0.57352879]\n",
      " [-1.29868643 -1.102884   -1.4118125   1.40627257]\n",
      " [ 1.13417325 -0.21519688  0.63456827 -0.83274377]]\n"
     ]
    }
   ],
   "source": [
    "# (1) numpy를 이용한 표준화\n",
    "# Z = (X - mean())/std()\n",
    "data = np.random.randint(1000,size=(3,4))  # 0~999까지의 정수 ,(3,4) 2차원 배열\n",
    "print('raw_data:\\n',data)\n",
    "\n",
    "data_stand_np = (data - np.mean(data,axis=0))/np.std(data,axis=0)\n",
    "print('numpy standardized data:\\n',data_stand_np)"
   ]
  },
  {
   "cell_type": "code",
   "execution_count": 30,
   "id": "2a44e7a7-8285-4102-ba77-f2d9015adeb8",
   "metadata": {},
   "outputs": [
    {
     "name": "stdout",
     "output_type": "stream",
     "text": [
      "sklearn standardized data:\n",
      " [[ 0.16451318  1.31808087  0.77724422 -0.57352879]\n",
      " [-1.29868643 -1.102884   -1.4118125   1.40627257]\n",
      " [ 1.13417325 -0.21519688  0.63456827 -0.83274377]]\n",
      "sklearn standardized data:\n",
      " [[ 0.16451318  1.31808087  0.77724422 -0.57352879]\n",
      " [-1.29868643 -1.102884   -1.4118125   1.40627257]\n",
      " [ 1.13417325 -0.21519688  0.63456827 -0.83274377]]\n"
     ]
    }
   ],
   "source": [
    "# (2) sklearn.preprocessing를 이용한 표준화\n",
    "# StandardScaler().fit_transform()  (fit() --> transform())\n",
    "\n",
    "from sklearn.preprocessing import StandardScaler\n",
    "\n",
    "data_stand_skl = StandardScaler().fit_transform(data)\n",
    "print('sklearn standardized data:\\n',data_stand_skl)\n",
    "\n",
    "# 동일한 구현\n",
    "sc = StandardScaler()  # 클래스의 인스턴스를 생성\n",
    "# print(type(sc))      # <class 'sklearn.preprocessing._data.StandardScaler'>\n",
    "sc.fit(data)\n",
    "data_stand_skl = sc.transform(data)\n",
    "print('sklearn standardized data:\\n',data_stand_skl)"
   ]
  },
  {
   "cell_type": "code",
   "execution_count": 33,
   "id": "88256220-b4c1-4fd8-a6d8-b58171be3e64",
   "metadata": {},
   "outputs": [
    {
     "name": "stdout",
     "output_type": "stream",
     "text": [
      "fit: my_data\n",
      "transform: my_data\n"
     ]
    },
    {
     "data": {
      "text/plain": [
       "'my_data'"
      ]
     },
     "execution_count": 33,
     "metadata": {},
     "output_type": "execute_result"
    }
   ],
   "source": [
    "# fit_transform() 메서드\n",
    "from sklearn.base import TransformerMixin\n",
    "\n",
    "class A(TransformerMixin):\n",
    "    def fit(self,X):\n",
    "        print('fit:',X)\n",
    "        return self\n",
    "    \n",
    "    def transform(self,X):\n",
    "        print('transform:',X)\n",
    "        return X\n",
    "\n",
    "inst = A()  # 클래스의 인스턴스 생성\n",
    "# inst.fit('x_data')\n",
    "# inst.transform('y_data')\n",
    "inst.fit_transform('my_data')"
   ]
  },
  {
   "cell_type": "code",
   "execution_count": 41,
   "id": "4b373e8a-5322-4ff0-84f3-ad65cc21fb57",
   "metadata": {},
   "outputs": [
    {
     "data": {
      "text/html": [
       "<div>\n",
       "<style scoped>\n",
       "    .dataframe tbody tr th:only-of-type {\n",
       "        vertical-align: middle;\n",
       "    }\n",
       "\n",
       "    .dataframe tbody tr th {\n",
       "        vertical-align: top;\n",
       "    }\n",
       "\n",
       "    .dataframe thead th {\n",
       "        text-align: right;\n",
       "    }\n",
       "</style>\n",
       "<table border=\"1\" class=\"dataframe\">\n",
       "  <thead>\n",
       "    <tr style=\"text-align: right;\">\n",
       "      <th></th>\n",
       "      <th>feature1</th>\n",
       "      <th>feature2</th>\n",
       "      <th>feature3</th>\n",
       "    </tr>\n",
       "  </thead>\n",
       "  <tbody>\n",
       "    <tr>\n",
       "      <th>0</th>\n",
       "      <td>0.561420</td>\n",
       "      <td>-1.299977</td>\n",
       "      <td>1.253192</td>\n",
       "    </tr>\n",
       "    <tr>\n",
       "      <th>1</th>\n",
       "      <td>0.124558</td>\n",
       "      <td>-0.908903</td>\n",
       "      <td>-0.830076</td>\n",
       "    </tr>\n",
       "    <tr>\n",
       "      <th>2</th>\n",
       "      <td>0.369201</td>\n",
       "      <td>-0.511256</td>\n",
       "      <td>1.270381</td>\n",
       "    </tr>\n",
       "    <tr>\n",
       "      <th>3</th>\n",
       "      <td>-1.158068</td>\n",
       "      <td>0.967597</td>\n",
       "      <td>-0.737257</td>\n",
       "    </tr>\n",
       "    <tr>\n",
       "      <th>4</th>\n",
       "      <td>1.089149</td>\n",
       "      <td>1.592001</td>\n",
       "      <td>-0.627249</td>\n",
       "    </tr>\n",
       "  </tbody>\n",
       "</table>\n",
       "</div>"
      ],
      "text/plain": [
       "   feature1  feature2  feature3\n",
       "0  0.561420 -1.299977  1.253192\n",
       "1  0.124558 -0.908903 -0.830076\n",
       "2  0.369201 -0.511256  1.270381\n",
       "3 -1.158068  0.967597 -0.737257\n",
       "4  1.089149  1.592001 -0.627249"
      ]
     },
     "execution_count": 41,
     "metadata": {},
     "output_type": "execute_result"
    }
   ],
   "source": [
    "# csv파일을 읽어서 표준화 전처리\n",
    "# import pandas as pd\n",
    "# from sklearn.preprocessing import StandardScaler\n",
    "\n",
    "df = pd.read_csv('표준화예제데이터.csv')\n",
    "\n",
    "# 표준화 수행\n",
    "scaler = StandardScaler()\n",
    "scaled_data = scaler.fit_transform(df)\n",
    "\n",
    "# Dataframe으로 변환\n",
    "df_scaled_data = pd.DataFrame(scaled_data,columns=df.columns)\n",
    "\n",
    "# 새 파일로 저장\n",
    "df_scaled_data.to_csv('표준화 처리된 데이터.csv',index=False)\n",
    "df_scaled_data.head()"
   ]
  },
  {
   "cell_type": "markdown",
   "id": "651d959b-0ca1-4210-980b-09c1fe6b163f",
   "metadata": {},
   "source": [
    "### 정규화(Normalization)"
   ]
  },
  {
   "cell_type": "code",
   "execution_count": 46,
   "id": "b0ac4d80-daa3-4fea-a93a-1e71d5beb322",
   "metadata": {},
   "outputs": [
    {
     "name": "stdout",
     "output_type": "stream",
     "text": [
      "numpy minmax data:\n",
      " [[0.60143198 1.         1.         0.11577181]\n",
      " [0.         0.         0.         1.        ]\n",
      " [1.         0.36666667 0.93482309 0.        ]]\n"
     ]
    }
   ],
   "source": [
    "# (1) numpy를 이용한 정규화 : 0 ~ 1 범위\n",
    "# Z = (X-min())/(max()-min())\n",
    "\n",
    "data_minmax_np = (data - np.min(data,axis=0))/(np.max(data,axis=0) - np.min(data,axis=0))\n",
    "print('numpy minmax data:\\n',data_minmax_np)"
   ]
  },
  {
   "cell_type": "code",
   "execution_count": 49,
   "id": "92726987-ffae-42d0-8275-66e6c9f36096",
   "metadata": {},
   "outputs": [
    {
     "name": "stdout",
     "output_type": "stream",
     "text": [
      "sklearn minmax data:\n",
      " [[0.60143198 1.         1.         0.11577181]\n",
      " [0.         0.         0.         1.        ]\n",
      " [1.         0.36666667 0.93482309 0.        ]]\n"
     ]
    }
   ],
   "source": [
    "# (2) sklearn.preprocessing 를  이용한 정규화\n",
    "# MinMaxScaler 클래스 : fit_transform() (fit() -> transform())\n",
    "\n",
    "from sklearn.preprocessing import MinMaxScaler\n",
    "\n",
    "data_minmax_skl = MinMaxScaler().fit_transform(data)\n",
    "print('sklearn minmax data:\\n',data_minmax_skl)"
   ]
  },
  {
   "cell_type": "code",
   "execution_count": 52,
   "id": "e1bbc0b1-2b35-4f0a-89d9-3988099b8584",
   "metadata": {},
   "outputs": [
    {
     "data": {
      "text/html": [
       "<div>\n",
       "<style scoped>\n",
       "    .dataframe tbody tr th:only-of-type {\n",
       "        vertical-align: middle;\n",
       "    }\n",
       "\n",
       "    .dataframe tbody tr th {\n",
       "        vertical-align: top;\n",
       "    }\n",
       "\n",
       "    .dataframe thead th {\n",
       "        text-align: right;\n",
       "    }\n",
       "</style>\n",
       "<table border=\"1\" class=\"dataframe\">\n",
       "  <thead>\n",
       "    <tr style=\"text-align: right;\">\n",
       "      <th></th>\n",
       "      <th>feature1</th>\n",
       "      <th>feature2</th>\n",
       "      <th>feature3</th>\n",
       "    </tr>\n",
       "  </thead>\n",
       "  <tbody>\n",
       "    <tr>\n",
       "      <th>0</th>\n",
       "      <td>0.692308</td>\n",
       "      <td>0.075884</td>\n",
       "      <td>0.875380</td>\n",
       "    </tr>\n",
       "    <tr>\n",
       "      <th>1</th>\n",
       "      <td>0.564103</td>\n",
       "      <td>0.199584</td>\n",
       "      <td>0.261398</td>\n",
       "    </tr>\n",
       "    <tr>\n",
       "      <th>2</th>\n",
       "      <td>0.635897</td>\n",
       "      <td>0.325364</td>\n",
       "      <td>0.880446</td>\n",
       "    </tr>\n",
       "    <tr>\n",
       "      <th>3</th>\n",
       "      <td>0.187692</td>\n",
       "      <td>0.793139</td>\n",
       "      <td>0.288754</td>\n",
       "    </tr>\n",
       "    <tr>\n",
       "      <th>4</th>\n",
       "      <td>0.847179</td>\n",
       "      <td>0.990644</td>\n",
       "      <td>0.321175</td>\n",
       "    </tr>\n",
       "  </tbody>\n",
       "</table>\n",
       "</div>"
      ],
      "text/plain": [
       "   feature1  feature2  feature3\n",
       "0  0.692308  0.075884  0.875380\n",
       "1  0.564103  0.199584  0.261398\n",
       "2  0.635897  0.325364  0.880446\n",
       "3  0.187692  0.793139  0.288754\n",
       "4  0.847179  0.990644  0.321175"
      ]
     },
     "execution_count": 52,
     "metadata": {},
     "output_type": "execute_result"
    }
   ],
   "source": [
    "# csv파일을 읽어서 정규화 전처리\n",
    "# import pandas as pd\n",
    "# from sklearn.preprocessing import MinMaxScaler\n",
    "\n",
    "df = pd.read_csv('표준화예제데이터.csv')\n",
    "\n",
    "# 정규화 수행\n",
    "scaler = MinMaxScaler()\n",
    "scaled_data = scaler.fit_transform(df)\n",
    "\n",
    "# Dataframe으로 변환\n",
    "df_scaled_data = pd.DataFrame(scaled_data,columns=df.columns)\n",
    "\n",
    "# 새 파일로 저장\n",
    "df_scaled_data.to_csv('정규화 처리된 데이터.csv',index=False)\n",
    "df_scaled_data.head()"
   ]
  },
  {
   "cell_type": "code",
   "execution_count": 58,
   "id": "d1c1d3a0-e69d-48f5-96be-d75153650391",
   "metadata": {},
   "outputs": [
    {
     "data": {
      "text/plain": [
       "array([0.        , 0.00392157, 0.00784314, 0.01176471, 0.01568627,\n",
       "       0.01960784, 0.02352941, 0.02745098, 0.03137255, 0.03529412,\n",
       "       0.03921569, 0.04313725, 0.04705882, 0.05098039, 0.05490196,\n",
       "       0.05882353, 0.0627451 , 0.06666667, 0.07058824, 0.0745098 ,\n",
       "       0.07843137, 0.08235294, 0.08627451, 0.09019608, 0.09411765,\n",
       "       0.09803922, 0.10196078, 0.10588235, 0.10980392, 0.11372549,\n",
       "       0.11764706, 0.12156863, 0.1254902 , 0.12941176, 0.13333333,\n",
       "       0.1372549 , 0.14117647, 0.14509804, 0.14901961, 0.15294118,\n",
       "       0.15686275, 0.16078431, 0.16470588, 0.16862745, 0.17254902,\n",
       "       0.17647059, 0.18039216, 0.18431373, 0.18823529, 0.19215686,\n",
       "       0.19607843, 0.2       , 0.20392157, 0.20784314, 0.21176471,\n",
       "       0.21568627, 0.21960784, 0.22352941, 0.22745098, 0.23137255,\n",
       "       0.23529412, 0.23921569, 0.24313725, 0.24705882, 0.25098039,\n",
       "       0.25490196, 0.25882353, 0.2627451 , 0.26666667, 0.27058824,\n",
       "       0.2745098 , 0.27843137, 0.28235294, 0.28627451, 0.29019608,\n",
       "       0.29411765, 0.29803922, 0.30196078, 0.30588235, 0.30980392,\n",
       "       0.31372549, 0.31764706, 0.32156863, 0.3254902 , 0.32941176,\n",
       "       0.33333333, 0.3372549 , 0.34117647, 0.34509804, 0.34901961,\n",
       "       0.35294118, 0.35686275, 0.36078431, 0.36470588, 0.36862745,\n",
       "       0.37254902, 0.37647059, 0.38039216, 0.38431373, 0.38823529,\n",
       "       0.39215686, 0.39607843, 0.4       , 0.40392157, 0.40784314,\n",
       "       0.41176471, 0.41568627, 0.41960784, 0.42352941, 0.42745098,\n",
       "       0.43137255, 0.43529412, 0.43921569, 0.44313725, 0.44705882,\n",
       "       0.45098039, 0.45490196, 0.45882353, 0.4627451 , 0.46666667,\n",
       "       0.47058824, 0.4745098 , 0.47843137, 0.48235294, 0.48627451,\n",
       "       0.49019608, 0.49411765, 0.49803922, 0.50196078, 0.50588235,\n",
       "       0.50980392, 0.51372549, 0.51764706, 0.52156863, 0.5254902 ,\n",
       "       0.52941176, 0.53333333, 0.5372549 , 0.54117647, 0.54509804,\n",
       "       0.54901961, 0.55294118, 0.55686275, 0.56078431, 0.56470588,\n",
       "       0.56862745, 0.57254902, 0.57647059, 0.58039216, 0.58431373,\n",
       "       0.58823529, 0.59215686, 0.59607843, 0.6       , 0.60392157,\n",
       "       0.60784314, 0.61176471, 0.61568627, 0.61960784, 0.62352941,\n",
       "       0.62745098, 0.63137255, 0.63529412, 0.63921569, 0.64313725,\n",
       "       0.64705882, 0.65098039, 0.65490196, 0.65882353, 0.6627451 ,\n",
       "       0.66666667, 0.67058824, 0.6745098 , 0.67843137, 0.68235294,\n",
       "       0.68627451, 0.69019608, 0.69411765, 0.69803922, 0.70196078,\n",
       "       0.70588235, 0.70980392, 0.71372549, 0.71764706, 0.72156863,\n",
       "       0.7254902 , 0.72941176, 0.73333333, 0.7372549 , 0.74117647,\n",
       "       0.74509804, 0.74901961, 0.75294118, 0.75686275, 0.76078431,\n",
       "       0.76470588, 0.76862745, 0.77254902, 0.77647059, 0.78039216,\n",
       "       0.78431373, 0.78823529, 0.79215686, 0.79607843, 0.8       ,\n",
       "       0.80392157, 0.80784314, 0.81176471, 0.81568627, 0.81960784,\n",
       "       0.82352941, 0.82745098, 0.83137255, 0.83529412, 0.83921569,\n",
       "       0.84313725, 0.84705882, 0.85098039, 0.85490196, 0.85882353,\n",
       "       0.8627451 , 0.86666667, 0.87058824, 0.8745098 , 0.87843137,\n",
       "       0.88235294, 0.88627451, 0.89019608, 0.89411765, 0.89803922,\n",
       "       0.90196078, 0.90588235, 0.90980392, 0.91372549, 0.91764706,\n",
       "       0.92156863, 0.9254902 , 0.92941176, 0.93333333, 0.9372549 ,\n",
       "       0.94117647, 0.94509804, 0.94901961, 0.95294118, 0.95686275,\n",
       "       0.96078431, 0.96470588, 0.96862745, 0.97254902, 0.97647059,\n",
       "       0.98039216, 0.98431373, 0.98823529, 0.99215686, 0.99607843,\n",
       "       1.        ])"
      ]
     },
     "execution_count": 58,
     "metadata": {},
     "output_type": "execute_result"
    }
   ],
   "source": [
    "# 최소값이 0인 데이터의 정규화는 최대값으로만 나누면 된다!\n",
    "a = np.arange(0,256)\n",
    "a/255"
   ]
  },
  {
   "cell_type": "markdown",
   "id": "2401b7d5-3cb0-4643-a5ca-a0bfcd858cd5",
   "metadata": {},
   "source": [
    "### 레이블 인코딩(Label Encoding)"
   ]
  },
  {
   "cell_type": "code",
   "execution_count": 60,
   "id": "aa1de29d-d1a8-47d7-b3a0-b29aef93035b",
   "metadata": {},
   "outputs": [
    {
     "name": "stdout",
     "output_type": "stream",
     "text": [
      "encoding 변환 값: [0 1 4 5 3 2 3 2]\n"
     ]
    }
   ],
   "source": [
    "from sklearn.preprocessing import LabelEncoder\n",
    "\n",
    "items = ['TV', '냉장고', '전자레인지', '컴퓨터', '선풍기', '믹서', '선풍기','믹서']\n",
    "\n",
    "# encoder = LabelEncoder()\n",
    "# encoder.fit(items)\n",
    "# labels = encoder.transform(items)\n",
    "\n",
    "labels = LabelEncoder().fit_transform(items)\n",
    "print('encoding 변환 값:',labels)"
   ]
  },
  {
   "cell_type": "code",
   "execution_count": 61,
   "id": "8d99bf2b-5a61-401e-be98-b2a9405608f6",
   "metadata": {},
   "outputs": [
    {
     "name": "stdout",
     "output_type": "stream",
     "text": [
      "encoding 클래스: ['TV' '냉장고' '믹서' '선풍기' '전자레인지' '컴퓨터']\n"
     ]
    }
   ],
   "source": [
    "print('encoding 클래스:',encoder.classes_)"
   ]
  },
  {
   "cell_type": "code",
   "execution_count": 63,
   "id": "1627ff50-001d-4367-98aa-2c363c3b3c89",
   "metadata": {},
   "outputs": [
    {
     "name": "stdout",
     "output_type": "stream",
     "text": [
      "decding 원본 값: ['TV' '냉장고' '전자레인지' '컴퓨터' '선풍기' '믹서' '선풍기' '믹서']\n"
     ]
    }
   ],
   "source": [
    "print('decding 원본 값:', encoder.inverse_transform([0, 1, 4, 5, 3, 2, 3, 2]))"
   ]
  },
  {
   "cell_type": "markdown",
   "id": "7a2f0cd3-a96f-49dc-8965-79ce7c0b0733",
   "metadata": {},
   "source": [
    "### 결측치 제거"
   ]
  },
  {
   "cell_type": "code",
   "execution_count": 90,
   "id": "ff7847ce-b785-4d38-80a1-8838ac290b9e",
   "metadata": {},
   "outputs": [
    {
     "data": {
      "text/html": [
       "<div>\n",
       "<style scoped>\n",
       "    .dataframe tbody tr th:only-of-type {\n",
       "        vertical-align: middle;\n",
       "    }\n",
       "\n",
       "    .dataframe tbody tr th {\n",
       "        vertical-align: top;\n",
       "    }\n",
       "\n",
       "    .dataframe thead th {\n",
       "        text-align: right;\n",
       "    }\n",
       "</style>\n",
       "<table border=\"1\" class=\"dataframe\">\n",
       "  <thead>\n",
       "    <tr style=\"text-align: right;\">\n",
       "      <th></th>\n",
       "      <th>학생_ID</th>\n",
       "      <th>수학</th>\n",
       "      <th>영어</th>\n",
       "      <th>과학</th>\n",
       "      <th>사회</th>\n",
       "    </tr>\n",
       "  </thead>\n",
       "  <tbody>\n",
       "    <tr>\n",
       "      <th>0</th>\n",
       "      <td>1</td>\n",
       "      <td>85.0</td>\n",
       "      <td>0.0</td>\n",
       "      <td>88.0</td>\n",
       "      <td>0.0</td>\n",
       "    </tr>\n",
       "    <tr>\n",
       "      <th>1</th>\n",
       "      <td>2</td>\n",
       "      <td>0.0</td>\n",
       "      <td>75.0</td>\n",
       "      <td>92.0</td>\n",
       "      <td>83.0</td>\n",
       "    </tr>\n",
       "    <tr>\n",
       "      <th>2</th>\n",
       "      <td>3</td>\n",
       "      <td>78.0</td>\n",
       "      <td>82.0</td>\n",
       "      <td>0.0</td>\n",
       "      <td>78.0</td>\n",
       "    </tr>\n",
       "    <tr>\n",
       "      <th>3</th>\n",
       "      <td>4</td>\n",
       "      <td>92.0</td>\n",
       "      <td>90.0</td>\n",
       "      <td>85.0</td>\n",
       "      <td>88.0</td>\n",
       "    </tr>\n",
       "    <tr>\n",
       "      <th>4</th>\n",
       "      <td>5</td>\n",
       "      <td>0.0</td>\n",
       "      <td>85.0</td>\n",
       "      <td>79.0</td>\n",
       "      <td>90.0</td>\n",
       "    </tr>\n",
       "    <tr>\n",
       "      <th>5</th>\n",
       "      <td>6</td>\n",
       "      <td>88.0</td>\n",
       "      <td>0.0</td>\n",
       "      <td>94.0</td>\n",
       "      <td>0.0</td>\n",
       "    </tr>\n",
       "    <tr>\n",
       "      <th>6</th>\n",
       "      <td>7</td>\n",
       "      <td>76.0</td>\n",
       "      <td>91.0</td>\n",
       "      <td>0.0</td>\n",
       "      <td>85.0</td>\n",
       "    </tr>\n",
       "    <tr>\n",
       "      <th>7</th>\n",
       "      <td>8</td>\n",
       "      <td>95.0</td>\n",
       "      <td>88.0</td>\n",
       "      <td>87.0</td>\n",
       "      <td>87.0</td>\n",
       "    </tr>\n",
       "    <tr>\n",
       "      <th>8</th>\n",
       "      <td>9</td>\n",
       "      <td>0.0</td>\n",
       "      <td>77.0</td>\n",
       "      <td>91.0</td>\n",
       "      <td>0.0</td>\n",
       "    </tr>\n",
       "    <tr>\n",
       "      <th>9</th>\n",
       "      <td>10</td>\n",
       "      <td>89.0</td>\n",
       "      <td>0.0</td>\n",
       "      <td>0.0</td>\n",
       "      <td>92.0</td>\n",
       "    </tr>\n",
       "  </tbody>\n",
       "</table>\n",
       "</div>"
      ],
      "text/plain": [
       "   학생_ID    수학    영어    과학    사회\n",
       "0      1  85.0   0.0  88.0   0.0\n",
       "1      2   0.0  75.0  92.0  83.0\n",
       "2      3  78.0  82.0   0.0  78.0\n",
       "3      4  92.0  90.0  85.0  88.0\n",
       "4      5   0.0  85.0  79.0  90.0\n",
       "5      6  88.0   0.0  94.0   0.0\n",
       "6      7  76.0  91.0   0.0  85.0\n",
       "7      8  95.0  88.0  87.0  87.0\n",
       "8      9   0.0  77.0  91.0   0.0\n",
       "9     10  89.0   0.0   0.0  92.0"
      ]
     },
     "execution_count": 90,
     "metadata": {},
     "output_type": "execute_result"
    }
   ],
   "source": [
    "import pandas as pd\n",
    "\n",
    "df = pd.read_csv('결측치예제데이터.csv')\n",
    "df2 = df.fillna(0)  # 결측치를 0으로 채움\n",
    "df2"
   ]
  },
  {
   "cell_type": "code",
   "execution_count": 67,
   "id": "014674c7-e1c1-43e9-95c3-03d39c655441",
   "metadata": {},
   "outputs": [
    {
     "name": "stdout",
     "output_type": "stream",
     "text": [
      "<class 'float'>\n"
     ]
    }
   ],
   "source": [
    "np"
   ]
  },
  {
   "cell_type": "code",
   "execution_count": 80,
   "id": "4e440622-d2b9-4bb9-96c8-b954c52a01b6",
   "metadata": {},
   "outputs": [
    {
     "name": "stdout",
     "output_type": "stream",
     "text": [
      "nan\n",
      "inf\n"
     ]
    },
    {
     "name": "stderr",
     "output_type": "stream",
     "text": [
      "C:\\Users\\Public\\Documents\\ESTsoft\\CreatorTemp\\ipykernel_15844\\448164004.py:1: RuntimeWarning: invalid value encountered in divide\n",
      "  print(np.divide(0,0))\n",
      "C:\\Users\\Public\\Documents\\ESTsoft\\CreatorTemp\\ipykernel_15844\\448164004.py:2: RuntimeWarning: divide by zero encountered in divide\n",
      "  print(np.divide(10,0))\n"
     ]
    }
   ],
   "source": [
    "print(np.divide(0,0))   # nan\n",
    "print(np.divide(10,0))  # inf"
   ]
  },
  {
   "cell_type": "markdown",
   "id": "bc0eaaee-903e-434e-8816-2346a4722c81",
   "metadata": {},
   "source": [
    "###  피처(feature) 엔지니어링\n",
    "- 피처 selection  : 여러 피처(X) 중에서 필요한 피처만 선택\n",
    "- 피처 extraction : 기존 피처를 가공하거나 다른 방법을 사용하여 새로운 피처를 추출해내는 방법"
   ]
  },
  {
   "cell_type": "code",
   "execution_count": null,
   "id": "c9a521fc-4e97-437c-b607-9f9b3d6ce50c",
   "metadata": {},
   "outputs": [],
   "source": []
  }
 ],
 "metadata": {
  "kernelspec": {
   "display_name": "Python 3 (ipykernel)",
   "language": "python",
   "name": "python3"
  },
  "language_info": {
   "codemirror_mode": {
    "name": "ipython",
    "version": 3
   },
   "file_extension": ".py",
   "mimetype": "text/x-python",
   "name": "python",
   "nbconvert_exporter": "python",
   "pygments_lexer": "ipython3",
   "version": "3.12.7"
  }
 },
 "nbformat": 4,
 "nbformat_minor": 5
}
