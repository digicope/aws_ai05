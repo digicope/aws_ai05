{
 "cells": [
  {
   "cell_type": "code",
   "execution_count": 12,
   "id": "0598e25d-b6b5-47a0-ad99-2fd8071aaa9a",
   "metadata": {},
   "outputs": [
    {
     "name": "stdout",
     "output_type": "stream",
     "text": [
      "30\n"
     ]
    }
   ],
   "source": [
    "a = 10\n",
    "b = 20\n",
    "c = a + b\n",
    "print(c)"
   ]
  },
  {
   "cell_type": "markdown",
   "id": "7a796b60-3185-431b-99da-1b3416906536",
   "metadata": {},
   "source": [
    "### 주피터 노트북 필수 단축키\n",
    "\n",
    "- shift + enter : 셀 실행 후 다음 셀로 이동\n",
    "- alt + enter : 셀 실행 후 다음에 셀을 추가\n",
    "- ctrl + '/' : 주석문 설정/해제\n",
    "- Tab : 들여 쓰기\n",
    "- shift + Tab : 들여 쓰기 해제"
   ]
  },
  {
   "cell_type": "code",
   "execution_count": 16,
   "id": "9a2b7e8e-08ed-45b3-bbd3-1bca61098094",
   "metadata": {},
   "outputs": [
    {
     "name": "stdout",
     "output_type": "stream",
     "text": [
      "3.12.7 | packaged by Anaconda, Inc. | (main, Oct  4 2024, 13:17:27) [MSC v.1929 64 bit (AMD64)]\n"
     ]
    }
   ],
   "source": [
    "import sys\n",
    "print(sys.version)  # 파이썬 버전"
   ]
  },
  {
   "cell_type": "markdown",
   "id": "2aaee71c-ac88-4280-9637-87d4ab883a7f",
   "metadata": {},
   "source": [
    "# 파이썬 자료형\n",
    ": 숫자(정수형,실수형)/문자열/리스트/튜플/딕셔너리/집합"
   ]
  },
  {
   "cell_type": "markdown",
   "id": "a5412e08-4858-4b83-83c9-2e7945252914",
   "metadata": {},
   "source": [
    "- 정수형"
   ]
  },
  {
   "cell_type": "code",
   "execution_count": 21,
   "id": "04a8424b-756b-4c12-84b3-0091562a0dee",
   "metadata": {},
   "outputs": [
    {
     "name": "stdout",
     "output_type": "stream",
     "text": [
      "<class 'int'>\n",
      "12345\n"
     ]
    }
   ],
   "source": [
    "a = 12345\n",
    "print(type(a))\n",
    "print(a)"
   ]
  },
  {
   "cell_type": "markdown",
   "id": "23d61b9b-5b1c-414b-a5c2-b2fbf5f6b72c",
   "metadata": {},
   "source": [
    "- 실수형"
   ]
  },
  {
   "cell_type": "code",
   "execution_count": 23,
   "id": "d126bc11-d419-48c8-86a6-e0b00137ee2a",
   "metadata": {},
   "outputs": [
    {
     "name": "stdout",
     "output_type": "stream",
     "text": [
      "<class 'float'>\n",
      "0.123\n"
     ]
    }
   ],
   "source": [
    "f = 0.123\n",
    "print(type(f))\n",
    "print(f)"
   ]
  },
  {
   "cell_type": "markdown",
   "id": "797cc8a1-f72d-4b82-b2e3-42d6907e1768",
   "metadata": {},
   "source": [
    "- 객체 : 파이썬의 모든 변수, 데이터 형은 객체로 관리된다"
   ]
  },
  {
   "cell_type": "markdown",
   "id": "a62962c7-811f-4b29-93fb-feb92dd65ecb",
   "metadata": {},
   "source": [
    "- 문자열 : 불변형(immutable), 시퀀스형"
   ]
  },
  {
   "cell_type": "code",
   "execution_count": 25,
   "id": "9344daae-15de-4aff-b2c6-73bc59b5e1e0",
   "metadata": {},
   "outputs": [
    {
     "name": "stdout",
     "output_type": "stream",
     "text": [
      "<class 'str'>\n",
      "\n",
      "Desc : This is a test code!\n",
      "Date : 2025-05-12\n",
      "(C) copyright\n",
      "\n"
     ]
    }
   ],
   "source": [
    "str1  = \"Hello Python\"\n",
    "str2 = 'Good Bye'\n",
    "print(type(str1))\n",
    "\n",
    "str3 = \\\n",
    "'''\n",
    "Desc : This is a test code!\n",
    "Date : 2025-05-12\n",
    "(C) copyright\n",
    "'''\n",
    "print(str3)"
   ]
  },
  {
   "cell_type": "markdown",
   "id": "09828f3b-6da4-4c49-b3ce-146b57a806ac",
   "metadata": {},
   "source": [
    "- 리스트(list) : 가변형(mutable), 시퀀스, 가장 유용한 자료형, [ ] :대괄호, 중복 허용"
   ]
  },
  {
   "cell_type": "code",
   "execution_count": 28,
   "id": "6d56d8a9-e61a-4141-b602-fc79b50ea700",
   "metadata": {},
   "outputs": [
    {
     "name": "stdout",
     "output_type": "stream",
     "text": [
      "[1, 2, 3, 4, 5, 6]\n",
      "<class 'list'>\n",
      "['a', 'hello', 1, 3.5, [1, 2, 3, 4, 5, 6], 3.5, 1]\n"
     ]
    }
   ],
   "source": [
    "a = [1,2,3,4,5,6]\n",
    "print(a)\n",
    "print(type(a))\n",
    "\n",
    "b = ['a','hello',1,3.5,a,3.5,1]\n",
    "print(b)"
   ]
  },
  {
   "cell_type": "code",
   "execution_count": 34,
   "id": "23adab78-143a-40ea-8def-4880ebf24110",
   "metadata": {},
   "outputs": [
    {
     "name": "stdout",
     "output_type": "stream",
     "text": [
      "1 2 3 6 6\n",
      "[10, 2, 3, 4, 5, 6]\n"
     ]
    }
   ],
   "source": [
    "# 인덱싱\n",
    "a = [1,2,3,4,5,6]\n",
    "print(a[0],a[1],a[2],a[5],a[-1])\n",
    "\n",
    "a[0] = 10     # 가변형이므로 요소 변경이 가능하다\n",
    "print(a)"
   ]
  },
  {
   "cell_type": "code",
   "execution_count": 47,
   "id": "e755e995-d4ae-4763-a6d1-e83b2ade142a",
   "metadata": {},
   "outputs": [
    {
     "name": "stdout",
     "output_type": "stream",
     "text": [
      "[10, 2, 3]\n",
      "[10, 2, 3]\n",
      "[10, 2, 3, 4, 5]\n",
      "[10, 3, 5]\n",
      "[6, 5, 4, 3, 2, 10]\n",
      "10 [10]\n"
     ]
    }
   ],
   "source": [
    "# 슬라이싱  : a[start:end + 1:step]\n",
    "print(a[0:3])  # from 0 to (3-1)\n",
    "print(a[:3])\n",
    "\n",
    "print(a[:-1])  # 마지막 요소만 제외\n",
    "\n",
    "print(a[::2])\n",
    "print(a[::-1]) # 요소의 순서를 거꾸로 변경한다\n",
    "print(a[0],a[0:1])"
   ]
  },
  {
   "cell_type": "markdown",
   "id": "d304c3d3-18ef-438c-b7a8-256282fd0df2",
   "metadata": {},
   "source": [
    "- 튜플(tuple) : 불변형(immutable), 시퀀스형, ( ):소괄호 사용,중복 허용¶"
   ]
  },
  {
   "cell_type": "code",
   "execution_count": 48,
   "id": "4670a914-cbdf-4200-ad14-4c7390ef207b",
   "metadata": {},
   "outputs": [
    {
     "name": "stdout",
     "output_type": "stream",
     "text": [
      "<class 'tuple'>\n"
     ]
    }
   ],
   "source": [
    "a = (1,2,3,4,5,6)\n",
    "print(type(a))"
   ]
  },
  {
   "cell_type": "code",
   "execution_count": 49,
   "id": "49d50ca4-0744-4a2d-ad3f-0a483c2a91ba",
   "metadata": {},
   "outputs": [],
   "source": [
    "# 문자열과 리스트,튜플은 인덱싱과 슬라이싱 방법이 동일"
   ]
  },
  {
   "cell_type": "code",
   "execution_count": 52,
   "id": "c90b3b56-f44b-4c18-804c-d58aab01322c",
   "metadata": {},
   "outputs": [],
   "source": [
    "# a[0] = 10  # TypeError , 불변형이므로 요소 수정이 불가"
   ]
  },
  {
   "cell_type": "code",
   "execution_count": 61,
   "id": "51b2f0fb-bbb7-430e-a0f7-17d8aa537d21",
   "metadata": {},
   "outputs": [
    {
     "name": "stdout",
     "output_type": "stream",
     "text": [
      "<class 'tuple'>\n",
      "1 2 hello\n"
     ]
    }
   ],
   "source": [
    "# 패킹(packing), 언패킹 튜플\n",
    "t = 1,2,'hello'  # 패킹 , 괄호 생략 가능 , 쉼표로 데이터를 구분\n",
    "print(type(t))\n",
    "x,y,z = t          # 언패킹\n",
    "print(x,y,z)"
   ]
  },
  {
   "cell_type": "code",
   "execution_count": 62,
   "id": "388c6582-1b28-4359-9f20-dd6cbc7105b4",
   "metadata": {},
   "outputs": [],
   "source": [
    "x,y,z = 1,2,'hello'  # 언패킹"
   ]
  },
  {
   "cell_type": "code",
   "execution_count": 64,
   "id": "69dafd0f-3b7a-4992-acc9-80c50df7198c",
   "metadata": {},
   "outputs": [
    {
     "name": "stdout",
     "output_type": "stream",
     "text": [
      "(10, 20, 30) <class 'tuple'>\n",
      "10 20 30\n"
     ]
    }
   ],
   "source": [
    "def func():\n",
    "    return 10,20,30\n",
    "\n",
    "a = func()       # 패킹\n",
    "print(a,type(a))\n",
    "a,b,c = func()   # 언패킹\n",
    "print(a,b,c)"
   ]
  },
  {
   "cell_type": "code",
   "execution_count": 65,
   "id": "a717ab55-ae7d-432d-b1e9-20863ae67b20",
   "metadata": {},
   "outputs": [],
   "source": [
    "a,b,c,d = 10,20,30,'Hi'  # 언패킹"
   ]
  },
  {
   "cell_type": "markdown",
   "id": "7a797f60-ac8c-4a00-84d1-445f08523544",
   "metadata": {},
   "source": [
    "- 사전(dict): 가변형(mutable), 순서가 없다, 연관형, 매핑형 ,{ } : 중괄호사용\n",
    "{key:value,.....}, key 는 반드시 immutable형 이어야 한다(숫자형,문자열,튜플),\n",
    " value 는 mutable,immutable 모두 사용 가능하다"
   ]
  },
  {
   "cell_type": "code",
   "execution_count": 66,
   "id": "16725dfa-f96c-430c-832a-936dd44ecbf3",
   "metadata": {},
   "outputs": [
    {
     "name": "stdout",
     "output_type": "stream",
     "text": [
      "<class 'dict'>\n",
      "{'name': '홍길동', 'age': 30}\n"
     ]
    }
   ],
   "source": [
    "a = {'name':'홍길동','age':30}\n",
    "print(type(a))\n",
    "print(a)"
   ]
  },
  {
   "cell_type": "code",
   "execution_count": null,
   "id": "8ab1920e-d200-4399-9fd4-36f00ed554b7",
   "metadata": {},
   "outputs": [],
   "source": []
  },
  {
   "cell_type": "code",
   "execution_count": null,
   "id": "fe497754-5474-4ecd-927a-bc5e5f627e79",
   "metadata": {},
   "outputs": [],
   "source": []
  }
 ],
 "metadata": {
  "kernelspec": {
   "display_name": "Python 3 (ipykernel)",
   "language": "python",
   "name": "python3"
  },
  "language_info": {
   "codemirror_mode": {
    "name": "ipython",
    "version": 3
   },
   "file_extension": ".py",
   "mimetype": "text/x-python",
   "name": "python",
   "nbconvert_exporter": "python",
   "pygments_lexer": "ipython3",
   "version": "3.12.7"
  }
 },
 "nbformat": 4,
 "nbformat_minor": 5
}
