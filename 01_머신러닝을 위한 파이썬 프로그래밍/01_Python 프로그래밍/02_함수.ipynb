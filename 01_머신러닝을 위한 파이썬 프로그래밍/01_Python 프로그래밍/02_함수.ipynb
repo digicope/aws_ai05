{
 "cells": [
  {
   "cell_type": "markdown",
   "id": "6312db8d-1be6-484c-bdf6-5ec44af33bb4",
   "metadata": {},
   "source": [
    "### 함수(function)\n",
    "- 함수 구현의 목적 : 재사용, 모듈화"
   ]
  },
  {
   "cell_type": "code",
   "execution_count": 1,
   "id": "977f9ea3-ffcb-4a30-8186-55d92df54579",
   "metadata": {},
   "outputs": [],
   "source": [
    "# 수학 함수\n",
    "# f(x) = 10*x + 1   \n",
    "# f(2) = 10*2 + 1 = 21\n",
    "# f(a,b) = a + b\n",
    "# f(10,20) = 10 + 20 = 30"
   ]
  },
  {
   "cell_type": "code",
   "execution_count": 2,
   "id": "d3b49df5-b315-4053-ab0a-f3ec38faf7a5",
   "metadata": {},
   "outputs": [],
   "source": [
    "# 함수 구현 방법\n",
    "# '''\n",
    "# def 함수명(매개변수,.....):\n",
    "#     <수행할 문장1>\n",
    "#     <수행할 문장2>\n",
    "#     <수행할 문장3>\n",
    "#     ..\n",
    "#     return 반환할값\n",
    "# '''"
   ]
  },
  {
   "cell_type": "code",
   "execution_count": 14,
   "id": "5a378a10-e02a-4da1-a046-2c7b92f6a99e",
   "metadata": {},
   "outputs": [
    {
     "name": "stdout",
     "output_type": "stream",
     "text": [
      "add is called!\n",
      "30\n",
      "<class 'function'>\n",
      "add is called!\n",
      "7.5\n",
      "add is called!\n",
      "GoodMorning\n",
      "add is called!\n",
      "[1, 2, 3, 4, 5, 6]\n"
     ]
    }
   ],
   "source": [
    "# 함수 정의\n",
    "def add(a,b): \n",
    "    c = a + b\n",
    "    print('add is called!')\n",
    "    return c\n",
    "\n",
    "# 함수 호출\n",
    "ret = add(10,20)\n",
    "print(ret)\n",
    "\n",
    "print(type(add))  # <class 'function'>  , add는 함수 객체이다 \n",
    "\n",
    "print(add(3.5,4.0))           # float\n",
    "print(add('Good','Morning'))  # str\n",
    "print(add([1,2,3],[4,5,6]))   # list"
   ]
  },
  {
   "cell_type": "code",
   "execution_count": 8,
   "id": "b6b72634-5b09-4e65-ad5e-22a19f2b4688",
   "metadata": {},
   "outputs": [],
   "source": [
    "# dir(add)  # '__call__': callable"
   ]
  },
  {
   "cell_type": "code",
   "execution_count": 11,
   "id": "5212719e-41c0-4f91-8045-d1f2cff64240",
   "metadata": {},
   "outputs": [
    {
     "data": {
      "text/plain": [
       "'abcdef'"
      ]
     },
     "execution_count": 11,
     "metadata": {},
     "output_type": "execute_result"
    }
   ],
   "source": [
    "'abc' + 'def'"
   ]
  },
  {
   "cell_type": "markdown",
   "id": "b7bf1d7b-4a4f-48dd-9b03-5bed71cb12e4",
   "metadata": {},
   "source": [
    "### 일급함수(First Class Function) : 함수이름을 변수처럼 사용가능하다\n",
    "#### (1) 함수객체를 다른 함수의 인자로 전달할 수 있다\n",
    "#### (2) 함수객체를 반환 값으로 전달할 수 있다\n",
    "#### (3) 함수객체를 다른 자료 구조에 저장해서 사용 가능"
   ]
  },
  {
   "cell_type": "code",
   "execution_count": 19,
   "id": "1ca47427-4b78-46f1-9516-c56b34c4d9c8",
   "metadata": {},
   "outputs": [
    {
     "name": "stdout",
     "output_type": "stream",
     "text": [
      "func_two is called!\n",
      "add_two is called!\n",
      "30\n"
     ]
    }
   ],
   "source": [
    "# (1) 함수객체를 다른 함수의 인자로 전달할 수 있다\n",
    "def add_two(a,b):\n",
    "    print('add_two is called!')\n",
    "    return a + b\n",
    "\n",
    "# b = add_two\n",
    "# print(type(b))    \n",
    "# print(b(10,20))      \n",
    "\n",
    "def func_two(func,a,b):\n",
    "    print('func_two is called!')\n",
    "    result = func(a,b)\n",
    "    return result\n",
    "\n",
    "result = func_two(add_two,10,20)\n",
    "print(result)"
   ]
  },
  {
   "cell_type": "code",
   "execution_count": 25,
   "id": "cc5f3279-de4e-489a-8565-6a231a1f2536",
   "metadata": {},
   "outputs": [
    {
     "name": "stdout",
     "output_type": "stream",
     "text": [
      "foo2 is called!\n",
      "<class 'function'>\n",
      "bar2 is called!\n"
     ]
    }
   ],
   "source": [
    "# (2) 함수객체를 반환 값으로 전달할 수 있다\n",
    "def foo2():\n",
    "    print('foo2 is called!')\n",
    "    \n",
    "    def bar2():\n",
    "        print('bar2 is called!')\n",
    "\n",
    "    return bar2\n",
    "\n",
    "ret = foo2()\n",
    "print(type(ret))\n",
    "ret()"
   ]
  },
  {
   "cell_type": "code",
   "execution_count": 28,
   "id": "4988a193-24e6-4d47-bcce-650b6972115d",
   "metadata": {},
   "outputs": [
    {
     "name": "stdout",
     "output_type": "stream",
     "text": [
      "[<function add at 0x000002310242F7E0>, <function subtract at 0x000002310242ECA0>, <function multiply at 0x000002310242D9E0>, <function divide at 0x000002310242C5E0>]\n",
      "add is called!\n",
      "30\n"
     ]
    }
   ],
   "source": [
    "# (3) 함수객체를 다른 자료 구조에 저장해서 사용 가능\n",
    "# 함수 정의\n",
    "def add(a,b):\n",
    "    c = a + b\n",
    "    print('add is called!')\n",
    "    return c\n",
    "\n",
    "def subtract(a,b):\n",
    "    c = a - b\n",
    "    print('subtract is called!')\n",
    "    return c\n",
    "\n",
    "def multiply(a,b):\n",
    "    c = a * b\n",
    "    print('mutiply is called!')\n",
    "    return c\n",
    "\n",
    "def divide(a,b):\n",
    "    c = a / b\n",
    "    print('divide is called!')\n",
    "    return c\n",
    "\n",
    "# list 사용\n",
    "func_list = [add, subtract, multiply, divide]\n",
    "print(func_list)\n",
    "\n",
    "result = func_list[0](10,20)\n",
    "print(result)"
   ]
  },
  {
   "cell_type": "markdown",
   "id": "c7989dac-6598-4614-b14e-b1f34f8fc336",
   "metadata": {},
   "source": [
    "### 람다(lambda) 함수 , 람다식\n",
    "#### : 한줄 짜리 함수식, 식을 정의하는 순간 바로 함수 객체로 사용, 바로 인수로 전달할 수 있다, def 키워드를 사용하지 않는다\n",
    "#### 함수명 = lambda 인수1,인수2,..: 반환할 식"
   ]
  },
  {
   "cell_type": "code",
   "execution_count": 34,
   "id": "67115993-8556-4653-890d-75f48670bea4",
   "metadata": {},
   "outputs": [
    {
     "name": "stdout",
     "output_type": "stream",
     "text": [
      "30\n",
      "7\n",
      "<class 'function'>\n",
      "<class 'function'>\n",
      "30\n"
     ]
    }
   ],
   "source": [
    "def add(a,b):\n",
    "    return a+ b\n",
    "    \n",
    "print(add(10,20))\n",
    "print(add(3,4))\n",
    "print(type(add))\n",
    "\n",
    "add_new = lambda a,b : a + b\n",
    "print(type(add_new))\n",
    "print(add_new(10,20))"
   ]
  },
  {
   "cell_type": "code",
   "execution_count": 43,
   "id": "60c28aa6-3a69-4083-9696-c58db849f71b",
   "metadata": {},
   "outputs": [
    {
     "name": "stdout",
     "output_type": "stream",
     "text": [
      "[2, 5, 10, 17]\n",
      "[3, 5, 7, 9]\n"
     ]
    }
   ],
   "source": [
    "def f1(x):\n",
    "    return x*x + 1\n",
    "\n",
    "def f2(x):\n",
    "    return 2*x + 1\n",
    "\n",
    "def g(func):\n",
    "    return [func(x) for x in range(1,5)]\n",
    "\n",
    "# print([f1(1),f1(2),f1(3),f1(4)])\n",
    "# print([f1(x) for x in range(1,5)])  # List comprehension\n",
    "\n",
    "print(g(f1))\n",
    "print(g(f2))"
   ]
  },
  {
   "cell_type": "code",
   "execution_count": 49,
   "id": "7e9e2a9f-3a8a-4326-aa5e-a598e4fdb019",
   "metadata": {},
   "outputs": [
    {
     "name": "stdout",
     "output_type": "stream",
     "text": [
      "[2, 5, 10, 17]\n",
      "[3, 5, 7, 9]\n",
      "[3, 13, 37, 81]\n",
      "[2, 3, 4, 5]\n"
     ]
    }
   ],
   "source": [
    "# 람다사용\n",
    "def g(func):\n",
    "    return [func(x) for x in range(1,5)]\n",
    "\n",
    "print(g(lambda x:x*x + 1))\n",
    "print(g(lambda x:2*x + 1))\n",
    "print(g(lambda x:x**3 +x**2 + 1))\n",
    "print(g(lambda x:x + 1))"
   ]
  },
  {
   "cell_type": "code",
   "execution_count": 46,
   "id": "2fac37c1-73d5-4175-9578-154eeee1b4dd",
   "metadata": {},
   "outputs": [
    {
     "name": "stdout",
     "output_type": "stream",
     "text": [
      "<class 'function'>\n"
     ]
    }
   ],
   "source": [
    "print(type(lambda x:x*x + 1))"
   ]
  },
  {
   "cell_type": "markdown",
   "id": "1de85b05-35ae-4e09-86d9-070dd964453f",
   "metadata": {},
   "source": [
    "### 파이썬 내장(Built-in) 함수\n",
    ":map()/max()/min()/sum()/round()/id()/hex()/zip()등 다양한 내장 함수가 존재"
   ]
  },
  {
   "cell_type": "code",
   "execution_count": 56,
   "id": "92ff0157-0745-44de-93bb-a20408049350",
   "metadata": {},
   "outputs": [
    {
     "name": "stdout",
     "output_type": "stream",
     "text": [
      "1 10 55 10\n",
      "3.52\n"
     ]
    }
   ],
   "source": [
    "a = [1,2,3,4,5,6,7,8,9,10]\n",
    "print(min(a),max(a),sum(a),len(a))\n",
    "a =3.515464\n",
    "print(round(a,2))"
   ]
  },
  {
   "cell_type": "code",
   "execution_count": 63,
   "id": "8cfc9f2e-3aab-428f-b521-d52ae293b0f3",
   "metadata": {},
   "outputs": [
    {
     "name": "stdout",
     "output_type": "stream",
     "text": [
      "<class 'map'>\n",
      "multi_two is called!\n",
      "multi_two is called!\n",
      "multi_two is called!\n",
      "multi_two is called!\n",
      "multi_two is called!\n",
      "multi_two is called!\n",
      "[2, 4, 6, 8, 10, 12]\n"
     ]
    }
   ],
   "source": [
    "# map()함수\n",
    "def multi_two(x):\n",
    "    print('multi_two is called!')\n",
    "    return x*2\n",
    "\n",
    "# for k in [1,2,3,4,5,6]:\n",
    "#     print(multi_two(k))\n",
    "\n",
    "ret = map(multi_two,[1,2,3,4,5,6]) # map객체를 생성 \n",
    "print(type(ret))                   # <class 'map'>\n",
    "\n",
    "print(list(ret))      # list로 형 변환 , map객체로 데이터 접근시에 함수가 실제 호출됨"
   ]
  },
  {
   "cell_type": "code",
   "execution_count": 65,
   "id": "a5ef96f8-cb00-4d77-b865-e76f0381f15d",
   "metadata": {},
   "outputs": [],
   "source": [
    "# dir(ret)   # __next__' : Generator"
   ]
  },
  {
   "cell_type": "code",
   "execution_count": 67,
   "id": "e3dd30bf-5664-46e1-8484-4726d235b31a",
   "metadata": {},
   "outputs": [
    {
     "name": "stdout",
     "output_type": "stream",
     "text": [
      "<map object at 0x0000023103822E90>\n",
      "multi_two is called!\n"
     ]
    },
    {
     "data": {
      "text/plain": [
       "2"
      ]
     },
     "execution_count": 67,
     "metadata": {},
     "output_type": "execute_result"
    }
   ],
   "source": [
    "ret = map(multi_two,[1,2,3,4,5,6])\n",
    "print(ret)\n",
    "next(ret)"
   ]
  },
  {
   "cell_type": "code",
   "execution_count": 74,
   "id": "05a87b56-a750-4c61-81ec-eb8d4daf37d5",
   "metadata": {},
   "outputs": [
    {
     "name": "stdout",
     "output_type": "stream",
     "text": [
      "multi_two is called!\n",
      "2\n",
      "multi_two is called!\n",
      "4\n",
      "multi_two is called!\n",
      "6\n",
      "multi_two is called!\n",
      "8\n",
      "multi_two is called!\n",
      "10\n",
      "multi_two is called!\n",
      "12\n"
     ]
    }
   ],
   "source": [
    "ret = map(multi_two,[1,2,3,4,5,6])\n",
    "for k in ret:\n",
    "    print(k)"
   ]
  },
  {
   "cell_type": "code",
   "execution_count": 75,
   "id": "c01da8c0-b71d-425f-89c0-eb635d233282",
   "metadata": {},
   "outputs": [
    {
     "name": "stdout",
     "output_type": "stream",
     "text": [
      "[2, 4, 6, 8, 10, 12]\n"
     ]
    }
   ],
   "source": [
    "# 람다 사용\n",
    "ret = map(lambda x:x*2,[1,2,3,4,5,6])\n",
    "print(list(ret))"
   ]
  },
  {
   "cell_type": "code",
   "execution_count": null,
   "id": "92769892-2cc8-4615-9a47-967b191d4813",
   "metadata": {},
   "outputs": [],
   "source": []
  }
 ],
 "metadata": {
  "kernelspec": {
   "display_name": "Python 3 (ipykernel)",
   "language": "python",
   "name": "python3"
  },
  "language_info": {
   "codemirror_mode": {
    "name": "ipython",
    "version": 3
   },
   "file_extension": ".py",
   "mimetype": "text/x-python",
   "name": "python",
   "nbconvert_exporter": "python",
   "pygments_lexer": "ipython3",
   "version": "3.12.7"
  }
 },
 "nbformat": 4,
 "nbformat_minor": 5
}
