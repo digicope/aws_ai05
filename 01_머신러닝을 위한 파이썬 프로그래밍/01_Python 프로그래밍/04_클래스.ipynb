{
 "cells": [
  {
   "cell_type": "markdown",
   "id": "8272e288",
   "metadata": {},
   "source": [
    "### 클래스(Class)"
   ]
  },
  {
   "cell_type": "code",
   "execution_count": 1,
   "id": "c72b6c34",
   "metadata": {},
   "outputs": [],
   "source": [
    "# * 파이썬 클래스 관련 용어\n",
    "# (1) 클래스(class) : class 문으로 정의하며, 멤버와 메서드를 가지는 객체이다, 새로운 이름 공간을 갖는 단위\n",
    "# (2) 클래스 객체(class object) : 클래스와 같은 의미\n",
    "\n",
    "# (3) 클래스 인스턴스  : 클래스를 호출하여 생성된 객체  \n",
    "# (4) 클래스 인스턴스 객체 : 클래스 인스턴스와 같은 의미\n",
    "\n",
    "# (5) 멤버 : 클래스 혹은 클래스 인스턴스 공간에 정의 된 변수\n",
    "# (6) 메서드 : 클래스 공간에 정의된 함수, def 사용\n",
    "# (7) 속성(Attribute) : 멤버와 메서드 전체를 가리킨다\n",
    "\n",
    "# (8) 상속 : 상위 클래스의 속성과 행동을 그대로 받아들이고 추가로 필요한 기능"
   ]
  },
  {
   "cell_type": "code",
   "execution_count": 2,
   "id": "49d33697",
   "metadata": {},
   "outputs": [
    {
     "name": "stdout",
     "output_type": "stream",
     "text": [
      "<class '__main__.Simple'>\n",
      "<__main__.Simple object at 0x00000222430619A0>\n",
      "<__main__.Simple object at 0x000002224308A250>\n"
     ]
    }
   ],
   "source": [
    "# class 클래스 이름 :\n",
    "#        속성 .... \n",
    "\n",
    "# 클래스 생성\n",
    "class Simple:\n",
    "    pass\n",
    "\n",
    "print(Simple)\n",
    "\n",
    "# 인스턴스의 생성\n",
    "s1 = Simple()\n",
    "print(s1)\n",
    "\n",
    "s2 = Simple()\n",
    "print(s2)\n",
    "\n",
    "# 인스턴스의 삭제(소멸) : 파이썬에서는 종료시 자동으로 소멸\n",
    "del s1\n",
    "# print(s1)   # NameError"
   ]
  },
  {
   "cell_type": "code",
   "execution_count": 3,
   "id": "024e059f",
   "metadata": {},
   "outputs": [
    {
     "name": "stdout",
     "output_type": "stream",
     "text": [
      "100\n",
      "[1, 2, 3, 4]\n",
      "Hi\n",
      "300\n",
      "300\n",
      "500\n",
      "300\n",
      "300\n",
      "700\n",
      "500\n",
      "300\n"
     ]
    }
   ],
   "source": [
    "# 멤버 접근 : 클래스 멤버와 인스턴스 멤버\n",
    "\n",
    "# (1) 클래스 멤버\n",
    "class MyClass:\n",
    "    cl_mem = 100         # 클래스 멤버\n",
    "    cl_list = [1,2,3,4]  # 클래스 멤버\n",
    "    a = 'Hi'             # 클래스 멤버    \n",
    "\n",
    "# 클래스 객체를 통해서 접근\n",
    "print(MyClass.cl_mem)  # 100\n",
    "print(MyClass.cl_list)\n",
    "print(MyClass.a)\n",
    "\n",
    "# 변경\n",
    "MyClass.cl_mem = 300\n",
    "print(MyClass.cl_mem)  # 300\n",
    "\n",
    "# 인스턴스 객체를 통해서 접근\n",
    "m1 = MyClass()\n",
    "print(m1.cl_mem)   # 300\n",
    "m1.cl_mem = 500\n",
    "print(m1.cl_mem)   # 500\n",
    "print(MyClass.cl_mem) # 300   ,  클래스 멤버는 변경되지 않음\n",
    "\n",
    "m2 = MyClass()\n",
    "print(m2.cl_mem)   # 300\n",
    "m2.cl_mem = 700\n",
    "print(m2.cl_mem)   # 700\n",
    "print(m1.cl_mem)   # 500\n",
    "print(MyClass.cl_mem) # 300"
   ]
  },
  {
   "cell_type": "code",
   "execution_count": 4,
   "id": "0da53b99",
   "metadata": {},
   "outputs": [
    {
     "name": "stdout",
     "output_type": "stream",
     "text": [
      "MyClass2 생성자가 호출됨\n",
      "__init__: <__main__.MyClass2 object at 0x00000222431804C0> 10 20\n",
      "m1:       <__main__.MyClass2 object at 0x00000222431804C0>\n"
     ]
    }
   ],
   "source": [
    "# (2) 인스턴스 멤버의 구현과 접근 : 클래스의 메서드 내에 구현한 멤버\n",
    "\n",
    "# 생성자 메서드의 구현\n",
    "class MyClass2:\n",
    "    def __init__(self,a,b):# 생성자 메서드,인스턴스 객체를 생성할 때 자동으로 호출, 인스턴스 멤버 초기화 \n",
    "                           # 변수명을 self 대신 다른 이름으로 써도 가능하다 \n",
    "                           # self는 파이썬 내장 예약어는 아님\n",
    "        print('MyClass2 생성자가 호출됨')\n",
    "        print('__init__:',self,a,b)\n",
    "    \n",
    "m1 = MyClass2(10,20)  # 인스턴스 생성 --> 생성자가 호출\n",
    "print('m1:      ',m1)"
   ]
  },
  {
   "cell_type": "code",
   "execution_count": 5,
   "id": "525b8a49",
   "metadata": {},
   "outputs": [
    {
     "name": "stdout",
     "output_type": "stream",
     "text": [
      "MyClass2 생성자가 호출됨\n",
      "0\n",
      "50\n",
      "1\n",
      "80\n",
      "MyClass2 생성자가 호출됨\n",
      "0\n",
      "Hi\n",
      "1\n",
      "80\n"
     ]
    }
   ],
   "source": [
    "# 인스턴스 멤버의 생성과 초기화\n",
    "class MyClass2:\n",
    "    def __init__(self,var1): # 생성자 메서드,인스턴스 메서드,첫 인자는 인스턴스 자신:self\n",
    "        print('MyClass2 생성자가 호출됨')\n",
    "        self.in_mem = 0     # 인스턴스 멤버를 생성, 초기화\n",
    "        self.in_list = [0]  # 인스턴스 멤버를 생성, 초기화\n",
    "        self.a = var1       # 인스턴스 멤버를 생성, 초기화\n",
    "\n",
    "m1 = MyClass2(50)    # 인스턴스의 생성 --> 생성자가 호출됨    \n",
    "print(m1.in_mem)     # 인스턴스의 멤버의 접근, 인스턴스를 통해서 접근가능\n",
    "print(m1.a)\n",
    "\n",
    "m1.in_mem = 1     # 인스턴스 멤버의 변경\n",
    "m1.a = 80\n",
    "print(m1.in_mem)  # 1\n",
    "print(m1.a)       # 80 \n",
    "\n",
    "m2 = MyClass2('Hi')  # 인스턴스의 생성 --> 생성자가 호출됨   \n",
    "print(m2.in_mem)  # 0\n",
    "print(m2.a)       # 'Hi'\n",
    "print(m1.in_mem)  # 1\n",
    "print(m1.a)       # 80 "
   ]
  },
  {
   "cell_type": "code",
   "execution_count": 6,
   "id": "d2c336bb",
   "metadata": {},
   "outputs": [
    {
     "name": "stdout",
     "output_type": "stream",
     "text": [
      "MyClass2 생성자가 호출됨\n",
      "0 0\n",
      "set 메서드가 호출됨\n",
      "30 40\n",
      "get 메서드가 호출됨\n",
      "30 40\n",
      "MyClass2 생성자가 호출됨\n",
      "0 0\n",
      "MyClass2 소멸자가 호출됨\n"
     ]
    }
   ],
   "source": [
    "# 인스턴스 메서드의 구현 : 생성된 인스턴스를 통해서 호출이 가능\n",
    "class MyClass2:\n",
    "    def __init__(self,var1): # 생성자 메서드,인스턴스 메서드,첫 인자는 인스턴스 자신:self\n",
    "        print('MyClass2 생성자가 호출됨')\n",
    "        self.in_mem = 0     # 인스턴스 멤버를 생성, 초기화\n",
    "        self.in_list = [0]  # 인스턴스 멤버를 생성, 초기화\n",
    "        self.a = var1       # 인스턴스 멤버를 생성, 초기화\n",
    "        \n",
    "    def set(self,var1,var2): # 인스턴스 메서드\n",
    "        print('set 메서드가 호출됨')\n",
    "        self.in_mem = var1   # 인스턴스 멤버를 변경\n",
    "        self.a = var2        # 인스턴스 멤버를 변경\n",
    "        \n",
    "    def get(self):           # 인스턴스 메서드\n",
    "        print('get 메서드가 호출됨')\n",
    "        return self.in_mem,self.a\n",
    "    \n",
    "    def __del__(self):  # 소멸자, 인스턴스 삭제시 호출, 파이썬에서는 구현이 불필요\n",
    "        print('MyClass2 소멸자가 호출됨')\n",
    "        \n",
    "m1 = MyClass2(0)  # 인스턴스의 생성 --> 생성자 메서드가 호출됨    \n",
    "print(m1.in_mem, m1.a)   # 0 0  , 인스턴스 멤버 접근\n",
    "\n",
    "m1.set(30,40)     # 인스턴스를 통해서 인스턴스 메서드를 호출\n",
    "print(m1.in_mem, m1.a)\n",
    "\n",
    "a,b = m1.get()    # 인스턴스 메서드를 호출\n",
    "print(a,b)\n",
    "\n",
    "m1.__init__(0)   # 생성자 메서드를 직접 호출, 인스턴스 객체가 생성되는건 아님, 인스턴스 멤버를 리셋\n",
    "print(m1.in_mem, m1.a)\n",
    "\n",
    "del m1       # 인스턴스의 삭제, 소멸자 메서드가 호출  \n",
    "# m1.__del__() # 소멸자만 호출됨, 인스턴스 객체는 삭제 되지 않음\n",
    "# m1"
   ]
  },
  {
   "cell_type": "markdown",
   "id": "246df013",
   "metadata": {},
   "source": [
    "## 클래스 상속\n",
    "#### 클래스 A에서 상속된 클래스 B가 있다고 할때, \n",
    "#### 클래스 A를 기반(Base) 클래스, 부모(Parent) 클래스 또는 상위(Super) 클래스라고 하며, \n",
    "#### 클래스 B를 파생(Derived) 클래스, 자식(Child) 클래스 또는 하위(Sub) 클래스라 한다."
   ]
  },
  {
   "cell_type": "code",
   "execution_count": 7,
   "id": "2e143836",
   "metadata": {},
   "outputs": [
    {
     "name": "stdout",
     "output_type": "stream",
     "text": [
      "('홍길동', '012-1234-1234')\n",
      "홍길동 012-1234-1234\n",
      "(<class 'object'>,)\n"
     ]
    }
   ],
   "source": [
    "# 부모(상위,super,base) 클래스\n",
    "class Person:\n",
    "    def __init__(self,name,phone=None): # 생성자\n",
    "        self.name = name                # 인스턴스 멤버\n",
    "        self.phone = phone              # 인스턴스 멤버\n",
    "        \n",
    "    def get_info(self):                 # 인스턴스 메서드\n",
    "        return self.name,self.phone\n",
    "\n",
    "p = Person('홍길동','012-1234-1234')    # 인스턴스의 생성\n",
    "print(p.get_info())                    # 메서드의 호출\n",
    "print(p.name,p.phone)                  # 인스턴스 멤버 접근\n",
    "print(Person.__bases__)                # 파이썬의 모든 클래스의 base 클래스는 object 이다"
   ]
  },
  {
   "cell_type": "code",
   "execution_count": 8,
   "id": "529c3fbc",
   "metadata": {},
   "outputs": [
    {
     "name": "stdout",
     "output_type": "stream",
     "text": [
      "('김철수', '111-2222-3333')\n",
      "김철수 111-2222-3333\n",
      "(<class '__main__.Person'>,)\n",
      "('임꺽정', '000-0000-0000')\n"
     ]
    }
   ],
   "source": [
    "# 자식(하위) 클래스\n",
    "class Employee(Person):           # 부모 클래스를 괄호안에 넣는다\n",
    "    def set_info(self,var1,var2): # 인스턴스 메서드\n",
    "        self.name = var1\n",
    "        self.phone = var2\n",
    "        \n",
    "e = Employee('김철수','111-2222-3333')  # 인스턴스의 생성\n",
    "\n",
    "print(e.get_info())                     # 메서드 호출\n",
    "print(e.name,e.phone)                   # 멤버 접근\n",
    "print(Employee.__bases__)               # 부모 클래스 : Person  \n",
    "\n",
    "e.set_info('임꺽정','000-0000-0000')     # 메서드 호출\n",
    "print(e.get_info())                     # 메서드 호출  "
   ]
  },
  {
   "cell_type": "code",
   "execution_count": 5,
   "id": "d09d0886",
   "metadata": {},
   "outputs": [
    {
     "name": "stdout",
     "output_type": "stream",
     "text": [
      "생성자\n",
      "차종이 [ 산타페 ]으로 변경 되었습니다\n",
      "산타페\n"
     ]
    }
   ],
   "source": [
    "# 클래스 기초 실습 과제 답안\n",
    "\n",
    "# 1번\n",
    "class Car:\n",
    "    def __init__(self):\n",
    "        print('생성자')\n",
    "        self.car_name = '소나타'\n",
    "        self.car_drv = '전륜'\n",
    "        self.car_speed = 0\n",
    "        self.car_direction = '앞쪽'\n",
    "        self.car_fuel = '휘발유'\n",
    "        self.car_state = '정상'\n",
    "\n",
    "    def set_car_name(self, name):\n",
    "        self.car_name = name\n",
    "        print(\"차종이 [\",self.car_name,\"]으로 변경 되었습니다\")\n",
    "\n",
    "    def get_car_name(self):\n",
    "        return self.car_name\n",
    "\n",
    "    def set_car_drv(self, drv):\n",
    "        self.car_drv = drv\n",
    "        print(\"차의 구동 방식이 [\", self.car_drv ,\"]으로 변경 되었습니다\")\n",
    "\n",
    "    def get_car_drv(self):\n",
    "        return self.car_drv\n",
    "\n",
    "    def set_car_fuel(self, fuel):\n",
    "        self.car_fuel = fuel\n",
    "        print(\"차의 연료 방식이 [\", self.car_fuel,\"]로 변경 되었습니다\")\n",
    "\n",
    "    def get_car_fuel(self):\n",
    "        return self.car_fuel\n",
    "\n",
    "    def set_car_state(self,state):\n",
    "        self.car_state = state\n",
    "        print(\"차의 상태가 [\",self.car_state, \"]으로 변경 되었습니다\")\n",
    "\n",
    "    def get_car_state(self):\n",
    "        return self.car_state\n",
    "\n",
    "    def set_speed(self,speed):\n",
    "        self.car_speed = speed\n",
    "        print(\"자동차의 속력이 시속 [\",self.car_speed,\"]km 로 변경되었습니다\")\n",
    "\n",
    "    def get_speed(self):\n",
    "        return self.car_speed\n",
    "\n",
    "    def turn(self,direction):\n",
    "        self.car_direction = direction\n",
    "        print(\"자동차의 방향이 [\",self.car_direction ,\"]으로 변경되었습니다\")\n",
    "\n",
    "    def stop(self):\n",
    "        self.car_direction = '정지'\n",
    "        print(\"자동차가 정지 하였습니다\")\n",
    "\n",
    "    def start(self):\n",
    "        print(\"자동차가 시동이 걸렸습니다\")\n",
    "\n",
    "    def move_forward(self):\n",
    "        self.car_direction = '앞쪽'\n",
    "        print(\"자동차가 전진합니다 속도는 \",self.car_speed,\"km입니다\")\n",
    "\n",
    "    def move_backward(self):\n",
    "        self.car_direction = '뒤쪽'\n",
    "        print(\"자동차가 후진합니다 속도는 \",self.car_speed,\"km입니다\")\n",
    "\n",
    "    def __del__(self):\n",
    "        print('[', self.car_name, \"] 자동차가 제거되었습니다\")\n",
    "\n",
    "sonata = Car()\n",
    "sonata.set_car_name('산타페')\n",
    "print(sonata.get_car_name())"
   ]
  },
  {
   "cell_type": "code",
   "execution_count": 7,
   "id": "d92cd583",
   "metadata": {},
   "outputs": [
    {
     "name": "stdout",
     "output_type": "stream",
     "text": [
      "차의 구동 방식이 [ 4륜 ]으로 변경 되었습니다\n",
      "4륜\n",
      "차의 연료 방식이 [ 전기 ]로 변경 되었습니다\n",
      "전기\n",
      "차의 상태가 [ 브레이크고장 ]으로 변경 되었습니다\n",
      "브레이크고장\n",
      "자동차의 속력이 시속 [ 100 ]km 로 변경되었습니다\n",
      "100\n",
      "자동차의 방향이 [ 오른쪽 ]으로 변경되었습니다\n",
      "자동차가 정지 하였습니다\n",
      "자동차가 시동이 걸렸습니다\n",
      "자동차가 전진합니다 속도는  100 km입니다\n",
      "자동차가 후진합니다 속도는  100 km입니다\n"
     ]
    }
   ],
   "source": [
    "sonata.set_car_drv('4륜')\n",
    "print(sonata.get_car_drv())\n",
    "\n",
    "sonata.set_car_fuel('전기')\n",
    "print(sonata.get_car_fuel())\n",
    "\n",
    "sonata.set_car_state('브레이크고장')\n",
    "print(sonata.get_car_state())\n",
    "\n",
    "sonata.set_speed(100)\n",
    "print(sonata.get_speed())\n",
    "\n",
    "sonata.turn('오른쪽')\n",
    "sonata.stop()\n",
    "\n",
    "sonata.start()\n",
    "\n",
    "sonata.move_forward()\n",
    "\n",
    "sonata.move_backward()\n",
    "\n",
    "\n",
    "# sonata = test_car_class()"
   ]
  },
  {
   "cell_type": "code",
   "execution_count": null,
   "id": "64161283",
   "metadata": {},
   "outputs": [],
   "source": []
  }
 ],
 "metadata": {
  "kernelspec": {
   "display_name": "Python 3",
   "language": "python",
   "name": "python3"
  },
  "language_info": {
   "codemirror_mode": {
    "name": "ipython",
    "version": 3
   },
   "file_extension": ".py",
   "mimetype": "text/x-python",
   "name": "python",
   "nbconvert_exporter": "python",
   "pygments_lexer": "ipython3",
   "version": "3.9.4"
  }
 },
 "nbformat": 4,
 "nbformat_minor": 5
}
