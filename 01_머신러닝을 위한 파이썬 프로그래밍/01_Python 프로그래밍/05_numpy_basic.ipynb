{
 "cells": [
  {
   "cell_type": "markdown",
   "id": "fb1bd240-046f-4a9e-af34-34b4a31752f1",
   "metadata": {},
   "source": [
    "### 넘파이(Numpy) : 배열(ndarray, n dimension array)\n",
    "#### 리스트(list): Linked List 구조(불연속), 동작 속도가 느리다, comma로 요소 구별, 서로 다른 자료형 사용가능\n",
    "#### 배열(ndarray) : 연속된 메모리 구조, 동작 속도가 빠르다, comma를 사용하지 않고 공백으로 요소를 구별, 오직 한 가지 타입만 갖을 수 있다"
   ]
  },
  {
   "cell_type": "code",
   "execution_count": 7,
   "id": "32fe4d3b-984f-4471-9d21-eedea68f6428",
   "metadata": {},
   "outputs": [
    {
     "name": "stdout",
     "output_type": "stream",
     "text": [
      "[0, 1, 2, 3, 4, 5, 'hello'] <class 'list'>\n",
      "[0 1 2 3 4 5] <class 'numpy.ndarray'>\n"
     ]
    }
   ],
   "source": [
    "import numpy as np\n",
    "\n",
    "# list\n",
    "list1 = [0,1,2,3,4,5,'hello']\n",
    "print(list1,type(list1))\n",
    "\n",
    "# ndarray\n",
    "a = np.array([0,1,2,3,4,5])\n",
    "print(a,type(a))"
   ]
  },
  {
   "cell_type": "code",
   "execution_count": null,
   "id": "5c57b496-748c-497a-9ef5-fbb899095949",
   "metadata": {},
   "outputs": [],
   "source": []
  },
  {
   "cell_type": "code",
   "execution_count": null,
   "id": "8acbc786-bbab-4815-9d58-0b4bd1c8639d",
   "metadata": {},
   "outputs": [],
   "source": []
  }
 ],
 "metadata": {
  "kernelspec": {
   "display_name": "Python 3 (ipykernel)",
   "language": "python",
   "name": "python3"
  },
  "language_info": {
   "codemirror_mode": {
    "name": "ipython",
    "version": 3
   },
   "file_extension": ".py",
   "mimetype": "text/x-python",
   "name": "python",
   "nbconvert_exporter": "python",
   "pygments_lexer": "ipython3",
   "version": "3.12.7"
  }
 },
 "nbformat": 4,
 "nbformat_minor": 5
}
