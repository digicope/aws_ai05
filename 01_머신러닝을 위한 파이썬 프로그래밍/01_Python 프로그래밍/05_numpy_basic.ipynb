{
 "cells": [
  {
   "cell_type": "markdown",
   "id": "fb1bd240-046f-4a9e-af34-34b4a31752f1",
   "metadata": {},
   "source": [
    "### 넘파이(Numpy) : 배열(ndarray, n dimension array)\n",
    "#### 리스트(list): Linked List 구조(불연속), 동작 속도가 느리다, comma로 요소 구별, 서로 다른 자료형 사용가능\n",
    "#### 배열(ndarray) : 연속된 메모리 구조, 동작 속도가 빠르다, comma를 사용하지 않고 공백으로 요소를 구별, 오직 한 가지 타입만 갖을 수 있다"
   ]
  },
  {
   "cell_type": "code",
   "execution_count": 2,
   "id": "32fe4d3b-984f-4471-9d21-eedea68f6428",
   "metadata": {},
   "outputs": [
    {
     "name": "stdout",
     "output_type": "stream",
     "text": [
      "[0, 1, 2, 3, 4, 5, 'hello'] <class 'list'>\n",
      "[0 1 2 3 4 5] <class 'numpy.ndarray'>\n",
      "int32\n"
     ]
    },
    {
     "data": {
      "text/plain": [
       "array([0, 1, 2, 3, 4, 5])"
      ]
     },
     "execution_count": 2,
     "metadata": {},
     "output_type": "execute_result"
    }
   ],
   "source": [
    "import numpy as np\n",
    "\n",
    "# list\n",
    "list1 = [0,1,2,3,4,5,'hello']\n",
    "print(list1,type(list1))\n",
    "\n",
    "# ndarray\n",
    "a = np.array([0,1,2,3,4,5])\n",
    "print(a,type(a))\n",
    "print(a.dtype)   # 요소의 자료형 int32(windows) , int64(Mac/Linux)\n",
    "a                # Shift + Tab : 변수위에 커서를 놓고 함수(메서드)의 프로토 타입을 볼수 있다"
   ]
  },
  {
   "cell_type": "code",
   "execution_count": 4,
   "id": "5c57b496-748c-497a-9ef5-fbb899095949",
   "metadata": {},
   "outputs": [
    {
     "data": {
      "text/plain": [
       "dict_keys(['?', 0, 'byte', 'b', 1, 'ubyte', 'B', 2, 'short', 'h', 3, 'ushort', 'H', 4, 'i', 5, 'uint', 'I', 6, 'intp', 'p', 9, 'uintp', 'P', 10, 'long', 'l', 7, 'ulong', 'L', 8, 'longlong', 'q', 'ulonglong', 'Q', 'half', 'e', 23, 'f', 11, 'double', 'd', 12, 'longdouble', 'g', 13, 'cfloat', 'F', 14, 'cdouble', 'D', 15, 'clongdouble', 'G', 16, 'O', 17, 'S', 18, 'unicode', 'U', 19, 'void', 'V', 20, 'M', 21, 'm', 22, 'b1', 'bool8', 'i8', 'int64', 'u8', 'uint64', 'f2', 'float16', 'f4', 'float32', 'f8', 'float64', 'c8', 'complex64', 'c16', 'complex128', 'object0', 'bytes0', 'str0', 'void0', 'M8', 'datetime64', 'm8', 'timedelta64', 'int32', 'i4', 'uint32', 'u4', 'int16', 'i2', 'uint16', 'u2', 'int8', 'i1', 'uint8', 'u1', 'complex_', 'single', 'csingle', 'singlecomplex', 'float_', 'intc', 'uintc', 'int_', 'longfloat', 'clongfloat', 'longcomplex', 'bool_', 'bytes_', 'string_', 'str_', 'unicode_', 'object_', 'int', 'float', 'complex', 'bool', 'object', 'str', 'bytes', 'a', 'int0', 'uint0'])"
      ]
     },
     "execution_count": 4,
     "metadata": {},
     "output_type": "execute_result"
    }
   ],
   "source": [
    "# numpy 의 dtype 객체의 종류 : 대소문자 모두 사용 가능\n",
    "np.sctypeDict.keys()"
   ]
  },
  {
   "cell_type": "markdown",
   "id": "f70545dd-3662-44bc-975b-5371fbacd395",
   "metadata": {},
   "source": [
    "### 차원(Dimension,Rank) 과 Shape\n",
    "#### * 차원(Dimension,Rank)  : 1,2,3차원,n차원, 첫 데이터까지의 대괄호의 갯수\n",
    "#### * Shape : 차원의 각 축의 요소의 수, 튜플 형식\n",
    "####  1 차원 Shape : (x,), 벡터(vector)\n",
    "####  2 차원 Shape : (x,y), 행렬(matrix)\n",
    "####  3 차원 Shape : (x,y,z) , (면,행,열) \n",
    "... \n",
    "####  n 차원 Shape : (x,y,z,....)"
   ]
  },
  {
   "cell_type": "code",
   "execution_count": 22,
   "id": "e6553f05-e2ac-418f-a672-eeec97b0494d",
   "metadata": {},
   "outputs": [
    {
     "name": "stdout",
     "output_type": "stream",
     "text": [
      "[ 0  1  2  3  4  5  6  7  8  9 10 11] int32\n",
      "1 (12,)\n",
      "<class 'tuple'>\n",
      "12\n"
     ]
    }
   ],
   "source": [
    "# 1차원 배열의 shape : (x,)\n",
    "# np.arange(start,end+1,step)\n",
    "a = np.arange(12)\n",
    "print(a,a.dtype)\n",
    "print(a.ndim, a.shape)  # 1차원 ,(12,)\n",
    "t = a.shape\n",
    "print(type(t))\n",
    "print(a.shape[0])"
   ]
  },
  {
   "cell_type": "code",
   "execution_count": 28,
   "id": "16ffffa3-74a1-4ec5-8afc-0112005240e6",
   "metadata": {},
   "outputs": [
    {
     "name": "stdout",
     "output_type": "stream",
     "text": [
      "[[0 1 2]\n",
      " [0 1 2]] (2, 3)\n",
      "[[0 1]\n",
      " [3 4]\n",
      " [5 6]] (3, 2)\n",
      "3\n",
      "2\n"
     ]
    }
   ],
   "source": [
    "# 2차원 배열의 Shape : 행(row,가로,수직,axis=0)과 열(column,세로,수평,axis=1) => 필수암기 \n",
    "m = np.array([[0,1,2],\n",
    "              [0,1,2]])\n",
    "print(m,m.shape)   # (2,3)\n",
    "\n",
    "m = np.array([[0,1],\n",
    "              [3,4],\n",
    "              [5,6]])\n",
    "print(m,m.shape)  \n",
    "print(m.shape[0])\n",
    "print(m.shape[1])"
   ]
  },
  {
   "cell_type": "code",
   "execution_count": 33,
   "id": "026a9c1e-234d-4047-a1c5-c5b13ef9de47",
   "metadata": {},
   "outputs": [
    {
     "name": "stdout",
     "output_type": "stream",
     "text": [
      "[[[0 1 2]\n",
      "  [3 4 5]]\n",
      "\n",
      " [[0 1 2]\n",
      "  [3 4 5]]] (2, 2, 3)\n",
      "[[[0 1]\n",
      "  [2 3]]\n",
      "\n",
      " [[4 5]\n",
      "  [0 1]]\n",
      "\n",
      " [[2 3]\n",
      "  [4 5]]] (3, 2, 2)\n",
      "3 2 2 2\n"
     ]
    }
   ],
   "source": [
    "# 3차원 배열의 Shape: (면,행,열)\n",
    "m = np.array([[[0,1,2],\n",
    "               [3,4,5]],\n",
    "              [[0,1,2],\n",
    "               [3,4,5]]])\n",
    "print(m,m.shape)\n",
    "\n",
    "m = np.array([[[0, 1],\n",
    "               [2, 3]],\n",
    "              [[4, 5],\n",
    "               [0, 1]],\n",
    "              [[2, 3],\n",
    "               [4, 5]]])\n",
    "print(m,m.shape)\n",
    "print(m.shape[0],m.shape[1],m.shape[2],m.shape[-1])"
   ]
  },
  {
   "cell_type": "code",
   "execution_count": 40,
   "id": "d8c1535c-5285-46e1-b757-22facf18b5fc",
   "metadata": {},
   "outputs": [
    {
     "name": "stdout",
     "output_type": "stream",
     "text": [
      "[ 0  1  2  3  4  5  6  7  8  9 10 11] (12,)\n",
      "[[ 0  1  2  3]\n",
      " [ 4  5  6  7]\n",
      " [ 8  9 10 11]] (3, 4)\n",
      "[[[ 0  1  2]\n",
      "  [ 3  4  5]]\n",
      "\n",
      " [[ 6  7  8]\n",
      "  [ 9 10 11]]] (2, 2, 3)\n",
      "[[ 0]\n",
      " [ 1]\n",
      " [ 2]\n",
      " [ 3]\n",
      " [ 4]\n",
      " [ 5]\n",
      " [ 6]\n",
      " [ 7]\n",
      " [ 8]\n",
      " [ 9]\n",
      " [10]\n",
      " [11]] (12, 1)\n",
      "[[[ 0]]\n",
      "\n",
      " [[ 1]]\n",
      "\n",
      " [[ 2]]\n",
      "\n",
      " [[ 3]]\n",
      "\n",
      " [[ 4]]\n",
      "\n",
      " [[ 5]]\n",
      "\n",
      " [[ 6]]\n",
      "\n",
      " [[ 7]]\n",
      "\n",
      " [[ 8]]\n",
      "\n",
      " [[ 9]]\n",
      "\n",
      " [[10]]\n",
      "\n",
      " [[11]]] (12, 1, 1)\n",
      "[[ 0  1  2  3  4  5  6  7  8  9 10 11]] (1, 12)\n",
      "[[[ 0  1  2  3  4  5  6  7  8  9 10 11]]] (1, 1, 12)\n"
     ]
    }
   ],
   "source": [
    "# shape 바꾸기 함수 : reshape()\n",
    "m1 = np.arange(12)\n",
    "print(m1,m1.shape)  # (12,) , 1차원\n",
    "\n",
    "m2 = m1.reshape(3,4)\n",
    "print(m2,m2.shape)  # (3, 4) , 2차원\n",
    "\n",
    "m3 = m1.reshape(2,2,3)  # (2, 2, 3) , 3차원\n",
    "print(m3,m3.shape)\n",
    "\n",
    "m2 = m1.reshape(12,1)\n",
    "print(m2,m2.shape)  # (12, 1) , 2차원\n",
    "\n",
    "m3 = m1.reshape(12,1,1)\n",
    "print(m3,m3.shape)  # (12, 1, 1) , 3차원\n",
    "\n",
    "m2 = m1.reshape(1,12)\n",
    "print(m2,m2.shape)  # (1,12) , 2차원\n",
    "\n",
    "m3 = m1.reshape(1,1,12)\n",
    "print(m3,m3.shape)  # (1,1,12) , 3차원"
   ]
  },
  {
   "cell_type": "markdown",
   "id": "49e64468-1ef4-47c5-a83e-b51b013efe58",
   "metadata": {},
   "source": [
    "### 배열의 인덱싱과 슬라이싱"
   ]
  },
  {
   "cell_type": "code",
   "execution_count": 41,
   "id": "ef4bf1ff-5658-4c16-b3f5-d8c37f807110",
   "metadata": {},
   "outputs": [],
   "source": [
    "# 1차원 배열의 인덱싱과 슬라이싱 : list 와 동일한 방법"
   ]
  },
  {
   "cell_type": "code",
   "execution_count": 70,
   "id": "e8529da7-ea5f-4914-acd6-8a4bed0ecca5",
   "metadata": {},
   "outputs": [
    {
     "name": "stdout",
     "output_type": "stream",
     "text": [
      "[[ 0  1  2  3]\n",
      " [ 4  5  6  7]\n",
      " [ 8  9 10 11]] (3, 4)\n",
      "0\n",
      "0\n",
      "9\n",
      "[0 1 2 3]\n",
      "[0 1 2 3]\n",
      "[0 4 8]\n",
      "[[ 0  1  2]\n",
      " [ 4  5  6]\n",
      " [ 8  9 10]]\n",
      "[[ 3]\n",
      " [ 7]\n",
      " [11]]\n",
      "[[ 3]\n",
      " [ 7]\n",
      " [11]]\n",
      "[[20 20 20 20]\n",
      " [ 4  5  6  7]\n",
      " [ 8  9 10 11]]\n",
      "[[30 20 20 30]\n",
      " [ 4  5  6  7]\n",
      " [30  9 10 30]]\n",
      "[[-1 -1 -1 -1]\n",
      " [-1 -1 -1 -1]\n",
      " [-1 -1 -1 -1]]\n"
     ]
    }
   ],
   "source": [
    "# 2차원 배열의 인덱싱과 슬라이싱 \n",
    "# data[행,열]\n",
    "d = np.arange(12).reshape(3,4)\n",
    "print(d,d.shape)\n",
    "\n",
    "# indexing\n",
    "print(d[0][0]) # 0\n",
    "print(d[0,0])  # 0, 파이썬 스타일\n",
    "print(d[2,1])  # 9\n",
    "\n",
    "# slicing\n",
    "print(d[0])\n",
    "print(d[0,:])\n",
    "print(d[:,0])\n",
    "\n",
    "print(d[:,:-1])  # 마지막 열을 제외\n",
    "print(d[:,-1:])  # 마지막 열만 추출, 2차원 유지\n",
    "print(d[:,[-1]]) # 마지막 열만 추출, 2차원 유지  \n",
    "\n",
    "d[0,:] = 20      # 0번 행의 모든 요소를 20으로 변경\n",
    "print(d)\n",
    "\n",
    "d[::2,::3] = 30  # 슬라이싱 된 요소 전체를 한번에 변경할 수 있다\n",
    "print(d)\n",
    "\n",
    "d[:,:] = -1      # 전체 요소를 한번에 변경할 수 있다\n",
    "print(d)"
   ]
  },
  {
   "cell_type": "code",
   "execution_count": 73,
   "id": "20852a6d-5d46-416f-9014-dccd9717700f",
   "metadata": {},
   "outputs": [
    {
     "name": "stdout",
     "output_type": "stream",
     "text": [
      "[[[ 0  1  2]\n",
      "  [ 3  4  5]]\n",
      "\n",
      " [[ 6  7  8]\n",
      "  [ 9 10 11]]] (2, 2, 3)\n",
      "0\n",
      "0\n",
      "5\n",
      "------------------------------\n",
      "[[[0 1]]\n",
      "\n",
      " [[6 7]]]\n",
      "------------------------------\n",
      "[[[ 4  5]]\n",
      "\n",
      " [[10 11]]]\n",
      "------------------------------\n",
      "[[ 2  5]\n",
      " [ 8 11]]\n",
      "------------------------------\n",
      "[[[ 5]]\n",
      "\n",
      " [[11]]]\n",
      "11\n"
     ]
    }
   ],
   "source": [
    "# 3차원 배열의 인덱싱과 슬라이싱\n",
    "# data[면,행,열]\n",
    "d = np.arange(12).reshape(2,2,3)\n",
    "print(d,d.shape)  # (2, 2, 3)\n",
    "\n",
    "# indexing\n",
    "print(d[0][0][0])   # old style\n",
    "print(d[0,0,0])     # 0\n",
    "print(d[0,1,2])     # 5\n",
    "\n",
    "print('-'*30)\n",
    "\n",
    "# slicing\n",
    "print(d[:,:-1,:-1])   # (2, 1, 2)\n",
    "print('-'*30)\n",
    "print(d[:,1:,1:])     # (2, 1, 2)\n",
    "print('-'*30)\n",
    "\n",
    "print(d[:,:,-1])      # (2,2) , 2차원(matrix)\n",
    "print('-'*30)\n",
    "print(d[:,-1,-1])     # (2,) , 1차원(vector)\n",
    "\n",
    "print(d[-1,-1,-1])    # indexing, 11 , scalar"
   ]
  },
  {
   "cell_type": "markdown",
   "id": "12725333-5af4-40a4-bdf4-2e7ac3e30e97",
   "metadata": {},
   "source": [
    "### 불린 인덱싱 : 조건식을 사용한 인덱싱, 조건 검색 필터를 사용한 추출(매우 중요)"
   ]
  },
  {
   "cell_type": "code",
   "execution_count": 99,
   "id": "d4626db2-8be5-48f7-8cf9-48a3f66c9737",
   "metadata": {},
   "outputs": [
    {
     "name": "stdout",
     "output_type": "stream",
     "text": [
      "[1 2 3 4 5 6]\n",
      "[False False False False  True  True]\n",
      "[5 6]\n",
      "[ True False  True False  True  True]\n",
      "[1 3 5 6]\n",
      "[1 2 4 5 6]\n",
      "[3 4 5]\n",
      "[2 4 6]\n",
      "[1 2 3]\n"
     ]
    }
   ],
   "source": [
    "a = np.array([1,2,3,4,5,6])\n",
    "print(a)\n",
    "\n",
    "print(a > 4)\n",
    "print(a[a > 4])\n",
    "# print(a[[False, False, False, False, True,True]])\n",
    "\n",
    "boolean_index = np.array([True,False,True,False,True,True])\n",
    "print(boolean_index)\n",
    "print(a[boolean_index])\n",
    "\n",
    "print(a[a!=3])\n",
    "print(a[(a > 2) & (a < 6)]) \n",
    "print(a[a % 2 == 0])\n",
    "print(a[a < a.mean()])   # 배열 a에서 평균보다 작은 값만 추출"
   ]
  },
  {
   "cell_type": "markdown",
   "id": "80fd22cd-c604-4027-b8f3-7a9740f8729f",
   "metadata": {},
   "source": [
    "## dot product: 내적 곱셈 ,행렬(matrix)"
   ]
  },
  {
   "cell_type": "code",
   "execution_count": 101,
   "id": "b44069aa-3491-41cf-85d2-6fe1b29d43ca",
   "metadata": {},
   "outputs": [
    {
     "name": "stdout",
     "output_type": "stream",
     "text": [
      "[[1 2 3]\n",
      " [4 5 6]]\n",
      "[[ 7  8]\n",
      " [ 9 10]\n",
      " [11 12]]\n",
      "[[ 58  64]\n",
      " [139 154]]\n"
     ]
    }
   ],
   "source": [
    "A = np.array([[1,2,3],\n",
    "              [4,5,6]])\n",
    "B = np.array([[7,8],\n",
    "              [9,10],\n",
    "              [11,12]])\n",
    "print(A)    # (2,3)\n",
    "print(B)    # (3,2)\n",
    "\n",
    "dot_product = np.dot(A,B)\n",
    "print(dot_product)\n",
    "\n",
    "# (2,3) * (3,2) = (2,2)\n",
    "# (m,n) * (n,l) = (m,l) # 행렬의 내적 곱셈시 shape 공식 ==> 필수 암기 요망!!\n",
    "\n",
    "#   X    *  W    =   Y\n",
    "# (10,4) * (a,b) = (10,2)   #  a = 4, b = 2 를 구할 수 있어야 한다\n",
    "# (768,10)*(a,b) = (768,3)  #  a = 10, b = 3 "
   ]
  },
  {
   "cell_type": "code",
   "execution_count": null,
   "id": "e705a475-e03d-4c5f-a458-46855f658711",
   "metadata": {},
   "outputs": [],
   "source": []
  }
 ],
 "metadata": {
  "kernelspec": {
   "display_name": "Python 3 (ipykernel)",
   "language": "python",
   "name": "python3"
  },
  "language_info": {
   "codemirror_mode": {
    "name": "ipython",
    "version": 3
   },
   "file_extension": ".py",
   "mimetype": "text/x-python",
   "name": "python",
   "nbconvert_exporter": "python",
   "pygments_lexer": "ipython3",
   "version": "3.12.7"
  }
 },
 "nbformat": 4,
 "nbformat_minor": 5
}
