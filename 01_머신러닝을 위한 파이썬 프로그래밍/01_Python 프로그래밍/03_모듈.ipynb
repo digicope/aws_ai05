{
 "cells": [
  {
   "cell_type": "markdown",
   "id": "c0b7a65b-e6ce-4036-a4f2-20d809a93948",
   "metadata": {},
   "source": [
    "### 모듈\n",
    "#### : 함수나 변수 또는 클래스를 모아놓은 소스 파일, xxx.py\n"
   ]
  },
  {
   "cell_type": "code",
   "execution_count": 1,
   "id": "044611ae-a3b2-408a-9345-fe7b570ff452",
   "metadata": {},
   "outputs": [],
   "source": [
    "# # 함수 정의\n",
    "# def add(a,b):\n",
    "#     c = a + b\n",
    "#     print('add is called!')\n",
    "#     return c\n",
    "\n",
    "# def subtract(a,b):\n",
    "#     c = a - b\n",
    "#     print('subtract is called!')\n",
    "#     return c\n",
    "\n",
    "# def multiply(a,b):\n",
    "#     c = a * b\n",
    "#     print('mutiply is called!')\n",
    "#     return c\n",
    "\n",
    "# def divide(a,b):\n",
    "#     c = a / b\n",
    "#     print('divide is called!')\n",
    "#     return c\n",
    "\n",
    "# if __name__ == '__main__':\n",
    "#     ret = add(10,2)\n",
    "#     print(add)"
   ]
  },
  {
   "cell_type": "code",
   "execution_count": 3,
   "id": "6aeca104-d3b9-45af-a244-b238ecb5b8e8",
   "metadata": {},
   "outputs": [
    {
     "name": "stdout",
     "output_type": "stream",
     "text": [
      "add is called!\n",
      "30\n",
      "subtract is called!\n",
      "-10\n"
     ]
    }
   ],
   "source": [
    "# 외부 모듈을 import : 함수로 구현된 모듈을 import\n",
    "# import calculator\n",
    "# calculator.add(10,20)\n",
    "# calculator.subtract(10,20)\n",
    "\n",
    "import calculator as cl\n",
    "\n",
    "if __name__ == '__main__':\n",
    "    ret = cl.add(10,20)\n",
    "    print(ret)\n",
    "    \n",
    "    ret = cl.subtract(10,20)\n",
    "    print(ret)"
   ]
  },
  {
   "cell_type": "code",
   "execution_count": 4,
   "id": "8bc993eb-34eb-431b-ae9d-ffac72308303",
   "metadata": {},
   "outputs": [],
   "source": [
    "# first.py (import second),  second.py ,   third.py\n",
    "# >> Python first.py     # __name__ 은 '__main__' , second.py의 __name__은 'second'\n",
    "# >> Python second.py    # second.py의 __name__은 '__main__'"
   ]
  },
  {
   "cell_type": "code",
   "execution_count": 8,
   "id": "329faffc-ef65-4db4-bcf4-f6d8741007d2",
   "metadata": {},
   "outputs": [],
   "source": [
    "import numpy as np\n",
    "import pandas as pd\n",
    "# import tensorflow as tf\n",
    "\n",
    "# 파이썬 외부 모듈(라이브러리) 설치 경로\n",
    "# C:\\Users\\사용자계정명\\Anaconda3\\Lib\\site-packages\n",
    "# C:\\ProgramData\\Anaconda3\\Lib\\site-packages\n",
    "# >> pip install tensorflow"
   ]
  },
  {
   "cell_type": "code",
   "execution_count": 9,
   "id": "5a3f811a-6b8b-43ff-8e6b-570aceb68e8e",
   "metadata": {},
   "outputs": [
    {
     "name": "stdout",
     "output_type": "stream",
     "text": [
      "add is called!\n"
     ]
    },
    {
     "data": {
      "text/plain": [
       "30"
      ]
     },
     "execution_count": 9,
     "metadata": {},
     "output_type": "execute_result"
    }
   ],
   "source": [
    "# 패키지나 모듈에서 일부 함수나 클래스를 가져오는 경우 \n",
    "from calculator import add             # add 하나만 import\n",
    "from calculator import add, subtract   # 두개만 import\n",
    "from calculator import *               # 모두 import\n",
    "add(10,20)   # 모듈이름을 사용하지 않고 바로 접근 가능하다"
   ]
  },
  {
   "cell_type": "code",
   "execution_count": null,
   "id": "4e913805-29bf-42a7-8ade-6a5a9638e063",
   "metadata": {},
   "outputs": [],
   "source": []
  }
 ],
 "metadata": {
  "kernelspec": {
   "display_name": "Python 3 (ipykernel)",
   "language": "python",
   "name": "python3"
  },
  "language_info": {
   "codemirror_mode": {
    "name": "ipython",
    "version": 3
   },
   "file_extension": ".py",
   "mimetype": "text/x-python",
   "name": "python",
   "nbconvert_exporter": "python",
   "pygments_lexer": "ipython3",
   "version": "3.12.7"
  }
 },
 "nbformat": 4,
 "nbformat_minor": 5
}
